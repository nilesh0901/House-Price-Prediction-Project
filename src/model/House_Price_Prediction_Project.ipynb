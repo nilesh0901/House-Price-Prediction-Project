{
 "nbformat": 4,
 "nbformat_minor": 0,
 "metadata": {
  "colab": {
   "provenance": []
  },
  "kernelspec": {
   "name": "python3",
   "display_name": "Python 3"
  },
  "language_info": {
   "name": "python"
  }
 },
 "cells": [
  {
   "cell_type": "markdown",
   "source": [
    "House Price Prediction Project"
   ],
   "metadata": {
    "id": "wbe-ZbB0EDuo"
   }
  },
  {
   "cell_type": "markdown",
   "source": [
    "Dataset is downloaded from here: https://www.kaggle.com/amitabhajoy/bengaluru-house-price-data"
   ],
   "metadata": {
    "id": "cHZWroW449cs"
   }
  },
  {
   "cell_type": "code",
   "source": [
    "import pandas as pd\n",
    "import numpy as np\n",
    "from matplotlib import pyplot as plt\n",
    "%matplotlib inline\n",
    "import matplotlib\n",
    "matplotlib.rcParams[\"figure.figsize\"] = (20,10)"
   ],
   "metadata": {
    "id": "i5rKlKknLKkd"
   },
   "execution_count": 7,
   "outputs": []
  },
  {
   "cell_type": "markdown",
   "source": [
    "Data Load"
   ],
   "metadata": {
    "id": "BR_mwhr654eo"
   }
  },
  {
   "cell_type": "code",
   "source": [
    "df = pd.read_csv(\"https://raw.githubusercontent.com/nilesh0901/House-Price-Prediction-Project/master/src/model/bengaluru_house_prices.csv\")\n",
    "df.head(10)"
   ],
   "metadata": {
    "colab": {
     "base_uri": "https://localhost:8080/",
     "height": 363
    },
    "id": "egdureAcMUc5",
    "outputId": "1debb63e-92e1-4d5f-a257-6b05d5ec8fc4"
   },
   "execution_count": 8,
   "outputs": [
    {
     "data": {
      "text/plain": "              area_type   availability                  location       size  \\\n0  Super built-up  Area         19-Dec  Electronic City Phase II      2 BHK   \n1            Plot  Area  Ready To Move          Chikka Tirupathi  4 Bedroom   \n2        Built-up  Area  Ready To Move               Uttarahalli      3 BHK   \n3  Super built-up  Area  Ready To Move        Lingadheeranahalli      3 BHK   \n4  Super built-up  Area  Ready To Move                  Kothanur      2 BHK   \n5  Super built-up  Area  Ready To Move                Whitefield      2 BHK   \n6  Super built-up  Area         18-May          Old Airport Road      4 BHK   \n7  Super built-up  Area  Ready To Move              Rajaji Nagar      4 BHK   \n8  Super built-up  Area  Ready To Move              Marathahalli      3 BHK   \n9            Plot  Area  Ready To Move              Gandhi Bazar  6 Bedroom   \n\n   society total_sqft  bath  balcony   price  \n0  Coomee        1056   2.0      1.0   39.07  \n1  Theanmp       2600   5.0      3.0  120.00  \n2      NaN       1440   2.0      3.0   62.00  \n3  Soiewre       1521   3.0      1.0   95.00  \n4      NaN       1200   2.0      1.0   51.00  \n5  DuenaTa       1170   2.0      1.0   38.00  \n6  Jaades        2732   4.0      NaN  204.00  \n7  Brway G       3300   4.0      NaN  600.00  \n8      NaN       1310   3.0      1.0   63.25  \n9      NaN       1020   6.0      NaN  370.00  ",
      "text/html": "<div>\n<style scoped>\n    .dataframe tbody tr th:only-of-type {\n        vertical-align: middle;\n    }\n\n    .dataframe tbody tr th {\n        vertical-align: top;\n    }\n\n    .dataframe thead th {\n        text-align: right;\n    }\n</style>\n<table border=\"1\" class=\"dataframe\">\n  <thead>\n    <tr style=\"text-align: right;\">\n      <th></th>\n      <th>area_type</th>\n      <th>availability</th>\n      <th>location</th>\n      <th>size</th>\n      <th>society</th>\n      <th>total_sqft</th>\n      <th>bath</th>\n      <th>balcony</th>\n      <th>price</th>\n    </tr>\n  </thead>\n  <tbody>\n    <tr>\n      <th>0</th>\n      <td>Super built-up  Area</td>\n      <td>19-Dec</td>\n      <td>Electronic City Phase II</td>\n      <td>2 BHK</td>\n      <td>Coomee</td>\n      <td>1056</td>\n      <td>2.0</td>\n      <td>1.0</td>\n      <td>39.07</td>\n    </tr>\n    <tr>\n      <th>1</th>\n      <td>Plot  Area</td>\n      <td>Ready To Move</td>\n      <td>Chikka Tirupathi</td>\n      <td>4 Bedroom</td>\n      <td>Theanmp</td>\n      <td>2600</td>\n      <td>5.0</td>\n      <td>3.0</td>\n      <td>120.00</td>\n    </tr>\n    <tr>\n      <th>2</th>\n      <td>Built-up  Area</td>\n      <td>Ready To Move</td>\n      <td>Uttarahalli</td>\n      <td>3 BHK</td>\n      <td>NaN</td>\n      <td>1440</td>\n      <td>2.0</td>\n      <td>3.0</td>\n      <td>62.00</td>\n    </tr>\n    <tr>\n      <th>3</th>\n      <td>Super built-up  Area</td>\n      <td>Ready To Move</td>\n      <td>Lingadheeranahalli</td>\n      <td>3 BHK</td>\n      <td>Soiewre</td>\n      <td>1521</td>\n      <td>3.0</td>\n      <td>1.0</td>\n      <td>95.00</td>\n    </tr>\n    <tr>\n      <th>4</th>\n      <td>Super built-up  Area</td>\n      <td>Ready To Move</td>\n      <td>Kothanur</td>\n      <td>2 BHK</td>\n      <td>NaN</td>\n      <td>1200</td>\n      <td>2.0</td>\n      <td>1.0</td>\n      <td>51.00</td>\n    </tr>\n    <tr>\n      <th>5</th>\n      <td>Super built-up  Area</td>\n      <td>Ready To Move</td>\n      <td>Whitefield</td>\n      <td>2 BHK</td>\n      <td>DuenaTa</td>\n      <td>1170</td>\n      <td>2.0</td>\n      <td>1.0</td>\n      <td>38.00</td>\n    </tr>\n    <tr>\n      <th>6</th>\n      <td>Super built-up  Area</td>\n      <td>18-May</td>\n      <td>Old Airport Road</td>\n      <td>4 BHK</td>\n      <td>Jaades</td>\n      <td>2732</td>\n      <td>4.0</td>\n      <td>NaN</td>\n      <td>204.00</td>\n    </tr>\n    <tr>\n      <th>7</th>\n      <td>Super built-up  Area</td>\n      <td>Ready To Move</td>\n      <td>Rajaji Nagar</td>\n      <td>4 BHK</td>\n      <td>Brway G</td>\n      <td>3300</td>\n      <td>4.0</td>\n      <td>NaN</td>\n      <td>600.00</td>\n    </tr>\n    <tr>\n      <th>8</th>\n      <td>Super built-up  Area</td>\n      <td>Ready To Move</td>\n      <td>Marathahalli</td>\n      <td>3 BHK</td>\n      <td>NaN</td>\n      <td>1310</td>\n      <td>3.0</td>\n      <td>1.0</td>\n      <td>63.25</td>\n    </tr>\n    <tr>\n      <th>9</th>\n      <td>Plot  Area</td>\n      <td>Ready To Move</td>\n      <td>Gandhi Bazar</td>\n      <td>6 Bedroom</td>\n      <td>NaN</td>\n      <td>1020</td>\n      <td>6.0</td>\n      <td>NaN</td>\n      <td>370.00</td>\n    </tr>\n  </tbody>\n</table>\n</div>"
     },
     "execution_count": 8,
     "metadata": {},
     "output_type": "execute_result"
    }
   ]
  },
  {
   "cell_type": "code",
   "source": [
    "df.groupby('area_type')['area_type'].agg('count')"
   ],
   "metadata": {
    "colab": {
     "base_uri": "https://localhost:8080/"
    },
    "id": "pwiO6RXtPIzJ",
    "outputId": "a609f045-07c7-4458-e00f-910c6167828d"
   },
   "execution_count": 9,
   "outputs": [
    {
     "data": {
      "text/plain": "area_type\nBuilt-up  Area          2418\nCarpet  Area              87\nPlot  Area              2025\nSuper built-up  Area    8790\nName: area_type, dtype: int64"
     },
     "execution_count": 9,
     "metadata": {},
     "output_type": "execute_result"
    }
   ]
  },
  {
   "cell_type": "code",
   "source": [
    "# Droping some non required features\n",
    "df2 = df.drop(['area_type','society','balcony','availability'],axis = 'columns')\n",
    "df2.head()"
   ],
   "metadata": {
    "colab": {
     "base_uri": "https://localhost:8080/",
     "height": 206
    },
    "id": "z9vQwlWJO-sB",
    "outputId": "5b910802-798b-4eaa-ac26-c6bd1ba92b27"
   },
   "execution_count": 10,
   "outputs": [
    {
     "data": {
      "text/plain": "                   location       size total_sqft  bath   price\n0  Electronic City Phase II      2 BHK       1056   2.0   39.07\n1          Chikka Tirupathi  4 Bedroom       2600   5.0  120.00\n2               Uttarahalli      3 BHK       1440   2.0   62.00\n3        Lingadheeranahalli      3 BHK       1521   3.0   95.00\n4                  Kothanur      2 BHK       1200   2.0   51.00",
      "text/html": "<div>\n<style scoped>\n    .dataframe tbody tr th:only-of-type {\n        vertical-align: middle;\n    }\n\n    .dataframe tbody tr th {\n        vertical-align: top;\n    }\n\n    .dataframe thead th {\n        text-align: right;\n    }\n</style>\n<table border=\"1\" class=\"dataframe\">\n  <thead>\n    <tr style=\"text-align: right;\">\n      <th></th>\n      <th>location</th>\n      <th>size</th>\n      <th>total_sqft</th>\n      <th>bath</th>\n      <th>price</th>\n    </tr>\n  </thead>\n  <tbody>\n    <tr>\n      <th>0</th>\n      <td>Electronic City Phase II</td>\n      <td>2 BHK</td>\n      <td>1056</td>\n      <td>2.0</td>\n      <td>39.07</td>\n    </tr>\n    <tr>\n      <th>1</th>\n      <td>Chikka Tirupathi</td>\n      <td>4 Bedroom</td>\n      <td>2600</td>\n      <td>5.0</td>\n      <td>120.00</td>\n    </tr>\n    <tr>\n      <th>2</th>\n      <td>Uttarahalli</td>\n      <td>3 BHK</td>\n      <td>1440</td>\n      <td>2.0</td>\n      <td>62.00</td>\n    </tr>\n    <tr>\n      <th>3</th>\n      <td>Lingadheeranahalli</td>\n      <td>3 BHK</td>\n      <td>1521</td>\n      <td>3.0</td>\n      <td>95.00</td>\n    </tr>\n    <tr>\n      <th>4</th>\n      <td>Kothanur</td>\n      <td>2 BHK</td>\n      <td>1200</td>\n      <td>2.0</td>\n      <td>51.00</td>\n    </tr>\n  </tbody>\n</table>\n</div>"
     },
     "execution_count": 10,
     "metadata": {},
     "output_type": "execute_result"
    }
   ]
  },
  {
   "cell_type": "code",
   "source": [
    "df2.isnull().sum()"
   ],
   "metadata": {
    "colab": {
     "base_uri": "https://localhost:8080/"
    },
    "id": "WN4CPMZRQaRL",
    "outputId": "5592ddc0-be9f-4fc2-a4cb-fd0832a52ebb"
   },
   "execution_count": 11,
   "outputs": [
    {
     "data": {
      "text/plain": "location       1\nsize          16\ntotal_sqft     0\nbath          73\nprice          0\ndtype: int64"
     },
     "execution_count": 11,
     "metadata": {},
     "output_type": "execute_result"
    }
   ]
  },
  {
   "cell_type": "code",
   "source": [
    "# removing NA values\n",
    "df3 = df2.dropna()\n",
    "df3.isnull().sum()"
   ],
   "metadata": {
    "colab": {
     "base_uri": "https://localhost:8080/"
    },
    "id": "n6way4Lree-L",
    "outputId": "08b3ac52-8e7a-46b9-8abd-8404ac722778"
   },
   "execution_count": 12,
   "outputs": [
    {
     "data": {
      "text/plain": "location      0\nsize          0\ntotal_sqft    0\nbath          0\nprice         0\ndtype: int64"
     },
     "execution_count": 12,
     "metadata": {},
     "output_type": "execute_result"
    }
   ]
  },
  {
   "cell_type": "code",
   "source": [
    "df3.shape"
   ],
   "metadata": {
    "colab": {
     "base_uri": "https://localhost:8080/"
    },
    "id": "ZY1_6l_Nf0FJ",
    "outputId": "f1398a03-47e7-4633-a005-cf66278be9e6"
   },
   "execution_count": 13,
   "outputs": [
    {
     "data": {
      "text/plain": "(13246, 5)"
     },
     "execution_count": 13,
     "metadata": {},
     "output_type": "execute_result"
    }
   ]
  },
  {
   "cell_type": "code",
   "source": [
    "df3['size'].unique()"
   ],
   "metadata": {
    "colab": {
     "base_uri": "https://localhost:8080/"
    },
    "id": "mot1KnymgBba",
    "outputId": "d6a357b7-ad09-4225-89d5-a79f6c558f7f"
   },
   "execution_count": 14,
   "outputs": [
    {
     "data": {
      "text/plain": "array(['2 BHK', '4 Bedroom', '3 BHK', '4 BHK', '6 Bedroom', '3 Bedroom',\n       '1 BHK', '1 RK', '1 Bedroom', '8 Bedroom', '2 Bedroom',\n       '7 Bedroom', '5 BHK', '7 BHK', '6 BHK', '5 Bedroom', '11 BHK',\n       '9 BHK', '9 Bedroom', '27 BHK', '10 Bedroom', '11 Bedroom',\n       '10 BHK', '19 BHK', '16 BHK', '43 Bedroom', '14 BHK', '8 BHK',\n       '12 Bedroom', '13 BHK', '18 Bedroom'], dtype=object)"
     },
     "execution_count": 14,
     "metadata": {},
     "output_type": "execute_result"
    }
   ]
  },
  {
   "cell_type": "code",
   "source": [
    "# adding new feature (feature engineering)\n",
    "df3['bhk'] = df3['size'].apply(lambda x: int(x.split(\" \")[0]))"
   ],
   "metadata": {
    "id": "3C0L9wCFgCly",
    "colab": {
     "base_uri": "https://localhost:8080/"
    },
    "outputId": "0b8558ce-a9ce-4cc2-fa8a-4343b13aa357"
   },
   "execution_count": 15,
   "outputs": [
    {
     "name": "stderr",
     "output_type": "stream",
     "text": [
      "C:\\Users\\niles\\AppData\\Local\\Temp\\ipykernel_15828\\1651522249.py:2: SettingWithCopyWarning: \n",
      "A value is trying to be set on a copy of a slice from a DataFrame.\n",
      "Try using .loc[row_indexer,col_indexer] = value instead\n",
      "\n",
      "See the caveats in the documentation: https://pandas.pydata.org/pandas-docs/stable/user_guide/indexing.html#returning-a-view-versus-a-copy\n",
      "  df3['bhk'] = df3['size'].apply(lambda x: int(x.split(\" \")[0]))\n"
     ]
    }
   ]
  },
  {
   "cell_type": "code",
   "source": [
    "df3.head()"
   ],
   "metadata": {
    "colab": {
     "base_uri": "https://localhost:8080/",
     "height": 206
    },
    "id": "jt4EueJ6gdmZ",
    "outputId": "ea953d92-6e0c-41aa-eead-b138b4ed0d15"
   },
   "execution_count": 16,
   "outputs": [
    {
     "data": {
      "text/plain": "                   location       size total_sqft  bath   price  bhk\n0  Electronic City Phase II      2 BHK       1056   2.0   39.07    2\n1          Chikka Tirupathi  4 Bedroom       2600   5.0  120.00    4\n2               Uttarahalli      3 BHK       1440   2.0   62.00    3\n3        Lingadheeranahalli      3 BHK       1521   3.0   95.00    3\n4                  Kothanur      2 BHK       1200   2.0   51.00    2",
      "text/html": "<div>\n<style scoped>\n    .dataframe tbody tr th:only-of-type {\n        vertical-align: middle;\n    }\n\n    .dataframe tbody tr th {\n        vertical-align: top;\n    }\n\n    .dataframe thead th {\n        text-align: right;\n    }\n</style>\n<table border=\"1\" class=\"dataframe\">\n  <thead>\n    <tr style=\"text-align: right;\">\n      <th></th>\n      <th>location</th>\n      <th>size</th>\n      <th>total_sqft</th>\n      <th>bath</th>\n      <th>price</th>\n      <th>bhk</th>\n    </tr>\n  </thead>\n  <tbody>\n    <tr>\n      <th>0</th>\n      <td>Electronic City Phase II</td>\n      <td>2 BHK</td>\n      <td>1056</td>\n      <td>2.0</td>\n      <td>39.07</td>\n      <td>2</td>\n    </tr>\n    <tr>\n      <th>1</th>\n      <td>Chikka Tirupathi</td>\n      <td>4 Bedroom</td>\n      <td>2600</td>\n      <td>5.0</td>\n      <td>120.00</td>\n      <td>4</td>\n    </tr>\n    <tr>\n      <th>2</th>\n      <td>Uttarahalli</td>\n      <td>3 BHK</td>\n      <td>1440</td>\n      <td>2.0</td>\n      <td>62.00</td>\n      <td>3</td>\n    </tr>\n    <tr>\n      <th>3</th>\n      <td>Lingadheeranahalli</td>\n      <td>3 BHK</td>\n      <td>1521</td>\n      <td>3.0</td>\n      <td>95.00</td>\n      <td>3</td>\n    </tr>\n    <tr>\n      <th>4</th>\n      <td>Kothanur</td>\n      <td>2 BHK</td>\n      <td>1200</td>\n      <td>2.0</td>\n      <td>51.00</td>\n      <td>2</td>\n    </tr>\n  </tbody>\n</table>\n</div>"
     },
     "execution_count": 16,
     "metadata": {},
     "output_type": "execute_result"
    }
   ]
  },
  {
   "cell_type": "code",
   "source": [
    "df3['bhk'].unique()"
   ],
   "metadata": {
    "colab": {
     "base_uri": "https://localhost:8080/"
    },
    "id": "u_S-ANtuggnZ",
    "outputId": "696d8362-5e0b-4117-9e2e-a5ff389dcbc4"
   },
   "execution_count": 17,
   "outputs": [
    {
     "data": {
      "text/plain": "array([ 2,  4,  3,  6,  1,  8,  7,  5, 11,  9, 27, 10, 19, 16, 43, 14, 12,\n       13, 18], dtype=int64)"
     },
     "execution_count": 17,
     "metadata": {},
     "output_type": "execute_result"
    }
   ]
  },
  {
   "cell_type": "code",
   "source": [
    "df3[df3.bhk>20]"
   ],
   "metadata": {
    "colab": {
     "base_uri": "https://localhost:8080/",
     "height": 112
    },
    "id": "gpPk7DxUgvDa",
    "outputId": "39ad8586-8488-4d2d-c24b-507381a143d4"
   },
   "execution_count": 18,
   "outputs": [
    {
     "data": {
      "text/plain": "                       location        size total_sqft  bath  price  bhk\n1718  2Electronic City Phase II      27 BHK       8000  27.0  230.0   27\n4684                Munnekollal  43 Bedroom       2400  40.0  660.0   43",
      "text/html": "<div>\n<style scoped>\n    .dataframe tbody tr th:only-of-type {\n        vertical-align: middle;\n    }\n\n    .dataframe tbody tr th {\n        vertical-align: top;\n    }\n\n    .dataframe thead th {\n        text-align: right;\n    }\n</style>\n<table border=\"1\" class=\"dataframe\">\n  <thead>\n    <tr style=\"text-align: right;\">\n      <th></th>\n      <th>location</th>\n      <th>size</th>\n      <th>total_sqft</th>\n      <th>bath</th>\n      <th>price</th>\n      <th>bhk</th>\n    </tr>\n  </thead>\n  <tbody>\n    <tr>\n      <th>1718</th>\n      <td>2Electronic City Phase II</td>\n      <td>27 BHK</td>\n      <td>8000</td>\n      <td>27.0</td>\n      <td>230.0</td>\n      <td>27</td>\n    </tr>\n    <tr>\n      <th>4684</th>\n      <td>Munnekollal</td>\n      <td>43 Bedroom</td>\n      <td>2400</td>\n      <td>40.0</td>\n      <td>660.0</td>\n      <td>43</td>\n    </tr>\n  </tbody>\n</table>\n</div>"
     },
     "execution_count": 18,
     "metadata": {},
     "output_type": "execute_result"
    }
   ]
  },
  {
   "cell_type": "code",
   "source": [
    "df3.total_sqft.unique()\n"
   ],
   "metadata": {
    "colab": {
     "base_uri": "https://localhost:8080/"
    },
    "id": "JsqwcNIrg36J",
    "outputId": "4f517aa7-a9dc-4270-c87e-d9a6d1e90cd3"
   },
   "execution_count": 19,
   "outputs": [
    {
     "data": {
      "text/plain": "array(['1056', '2600', '1440', ..., '1133 - 1384', '774', '4689'],\n      dtype=object)"
     },
     "execution_count": 19,
     "metadata": {},
     "output_type": "execute_result"
    }
   ]
  },
  {
   "cell_type": "code",
   "source": [
    "def is_float(x):\n",
    "  try:\n",
    "    float(x)\n",
    "  except:\n",
    "    return False\n",
    "  return True    "
   ],
   "metadata": {
    "id": "T_EAVSffhCmB"
   },
   "execution_count": 20,
   "outputs": []
  },
  {
   "cell_type": "code",
   "source": [
    "df3[~df3['total_sqft'].apply(is_float)].head()"
   ],
   "metadata": {
    "colab": {
     "base_uri": "https://localhost:8080/",
     "height": 206
    },
    "id": "QNpQPfZBhOZC",
    "outputId": "ac2bbe2a-b032-447f-ccff-2f8964a91da4"
   },
   "execution_count": 21,
   "outputs": [
    {
     "data": {
      "text/plain": "               location   size   total_sqft  bath    price  bhk\n30            Yelahanka  4 BHK  2100 - 2850   4.0  186.000    4\n122              Hebbal  4 BHK  3067 - 8156   4.0  477.000    4\n137  8th Phase JP Nagar  2 BHK  1042 - 1105   2.0   54.005    2\n165            Sarjapur  2 BHK  1145 - 1340   2.0   43.490    2\n188            KR Puram  2 BHK  1015 - 1540   2.0   56.800    2",
      "text/html": "<div>\n<style scoped>\n    .dataframe tbody tr th:only-of-type {\n        vertical-align: middle;\n    }\n\n    .dataframe tbody tr th {\n        vertical-align: top;\n    }\n\n    .dataframe thead th {\n        text-align: right;\n    }\n</style>\n<table border=\"1\" class=\"dataframe\">\n  <thead>\n    <tr style=\"text-align: right;\">\n      <th></th>\n      <th>location</th>\n      <th>size</th>\n      <th>total_sqft</th>\n      <th>bath</th>\n      <th>price</th>\n      <th>bhk</th>\n    </tr>\n  </thead>\n  <tbody>\n    <tr>\n      <th>30</th>\n      <td>Yelahanka</td>\n      <td>4 BHK</td>\n      <td>2100 - 2850</td>\n      <td>4.0</td>\n      <td>186.000</td>\n      <td>4</td>\n    </tr>\n    <tr>\n      <th>122</th>\n      <td>Hebbal</td>\n      <td>4 BHK</td>\n      <td>3067 - 8156</td>\n      <td>4.0</td>\n      <td>477.000</td>\n      <td>4</td>\n    </tr>\n    <tr>\n      <th>137</th>\n      <td>8th Phase JP Nagar</td>\n      <td>2 BHK</td>\n      <td>1042 - 1105</td>\n      <td>2.0</td>\n      <td>54.005</td>\n      <td>2</td>\n    </tr>\n    <tr>\n      <th>165</th>\n      <td>Sarjapur</td>\n      <td>2 BHK</td>\n      <td>1145 - 1340</td>\n      <td>2.0</td>\n      <td>43.490</td>\n      <td>2</td>\n    </tr>\n    <tr>\n      <th>188</th>\n      <td>KR Puram</td>\n      <td>2 BHK</td>\n      <td>1015 - 1540</td>\n      <td>2.0</td>\n      <td>56.800</td>\n      <td>2</td>\n    </tr>\n  </tbody>\n</table>\n</div>"
     },
     "execution_count": 21,
     "metadata": {},
     "output_type": "execute_result"
    }
   ]
  },
  {
   "cell_type": "code",
   "source": [
    "def convert_sqft_to_num(x):\n",
    "  tokens = x.split(\"-\")\n",
    "  if len(tokens) == 2:\n",
    "    return (float(tokens[0])+float(tokens[1]))/2\n",
    "  try:\n",
    "    return float(x)\n",
    "  except:\n",
    "    return None    "
   ],
   "metadata": {
    "id": "gdKdnus6h2x6"
   },
   "execution_count": 22,
   "outputs": []
  },
  {
   "cell_type": "code",
   "source": [
    "convert_sqft_to_num(\"2166\")"
   ],
   "metadata": {
    "colab": {
     "base_uri": "https://localhost:8080/"
    },
    "id": "y25g2HzUig3p",
    "outputId": "83952b7b-dca3-405f-9e24-3945c5b3b471"
   },
   "execution_count": 23,
   "outputs": [
    {
     "data": {
      "text/plain": "2166.0"
     },
     "execution_count": 23,
     "metadata": {},
     "output_type": "execute_result"
    }
   ]
  },
  {
   "cell_type": "code",
   "source": [
    "convert_sqft_to_num(\"1000 - 2000\")"
   ],
   "metadata": {
    "colab": {
     "base_uri": "https://localhost:8080/"
    },
    "id": "SEM6OSFCiz0Z",
    "outputId": "7a5e7887-a1ad-4092-a919-8d9640e79bec"
   },
   "execution_count": 24,
   "outputs": [
    {
     "data": {
      "text/plain": "1500.0"
     },
     "execution_count": 24,
     "metadata": {},
     "output_type": "execute_result"
    }
   ]
  },
  {
   "cell_type": "code",
   "source": [
    "df4 = df3.copy()\n",
    "df4['total_sqft'] = df4['total_sqft'].apply(convert_sqft_to_num)\n",
    "df4.loc[30]"
   ],
   "metadata": {
    "colab": {
     "base_uri": "https://localhost:8080/"
    },
    "id": "UcT0ajxti_pp",
    "outputId": "b1f1beeb-e677-4bba-a681-65c3a9623e8c"
   },
   "execution_count": 25,
   "outputs": [
    {
     "data": {
      "text/plain": "location      Yelahanka\nsize              4 BHK\ntotal_sqft       2475.0\nbath                4.0\nprice             186.0\nbhk                   4\nName: 30, dtype: object"
     },
     "execution_count": 25,
     "metadata": {},
     "output_type": "execute_result"
    }
   ]
  },
  {
   "cell_type": "code",
   "source": [
    "# feature engineering - adding new feature (price per sq ft)\n",
    "df5 = df4.copy()\n",
    "df5['price_per_sqft'] =  df5['price']*100000/df5['total_sqft']\n",
    "df5.head()"
   ],
   "metadata": {
    "colab": {
     "base_uri": "https://localhost:8080/",
     "height": 206
    },
    "id": "SWvalrt8nqje",
    "outputId": "49a84139-b24b-40ac-abe5-79f4e71bc0a7"
   },
   "execution_count": 26,
   "outputs": [
    {
     "data": {
      "text/plain": "                   location       size  total_sqft  bath   price  bhk  \\\n0  Electronic City Phase II      2 BHK      1056.0   2.0   39.07    2   \n1          Chikka Tirupathi  4 Bedroom      2600.0   5.0  120.00    4   \n2               Uttarahalli      3 BHK      1440.0   2.0   62.00    3   \n3        Lingadheeranahalli      3 BHK      1521.0   3.0   95.00    3   \n4                  Kothanur      2 BHK      1200.0   2.0   51.00    2   \n\n   price_per_sqft  \n0     3699.810606  \n1     4615.384615  \n2     4305.555556  \n3     6245.890861  \n4     4250.000000  ",
      "text/html": "<div>\n<style scoped>\n    .dataframe tbody tr th:only-of-type {\n        vertical-align: middle;\n    }\n\n    .dataframe tbody tr th {\n        vertical-align: top;\n    }\n\n    .dataframe thead th {\n        text-align: right;\n    }\n</style>\n<table border=\"1\" class=\"dataframe\">\n  <thead>\n    <tr style=\"text-align: right;\">\n      <th></th>\n      <th>location</th>\n      <th>size</th>\n      <th>total_sqft</th>\n      <th>bath</th>\n      <th>price</th>\n      <th>bhk</th>\n      <th>price_per_sqft</th>\n    </tr>\n  </thead>\n  <tbody>\n    <tr>\n      <th>0</th>\n      <td>Electronic City Phase II</td>\n      <td>2 BHK</td>\n      <td>1056.0</td>\n      <td>2.0</td>\n      <td>39.07</td>\n      <td>2</td>\n      <td>3699.810606</td>\n    </tr>\n    <tr>\n      <th>1</th>\n      <td>Chikka Tirupathi</td>\n      <td>4 Bedroom</td>\n      <td>2600.0</td>\n      <td>5.0</td>\n      <td>120.00</td>\n      <td>4</td>\n      <td>4615.384615</td>\n    </tr>\n    <tr>\n      <th>2</th>\n      <td>Uttarahalli</td>\n      <td>3 BHK</td>\n      <td>1440.0</td>\n      <td>2.0</td>\n      <td>62.00</td>\n      <td>3</td>\n      <td>4305.555556</td>\n    </tr>\n    <tr>\n      <th>3</th>\n      <td>Lingadheeranahalli</td>\n      <td>3 BHK</td>\n      <td>1521.0</td>\n      <td>3.0</td>\n      <td>95.00</td>\n      <td>3</td>\n      <td>6245.890861</td>\n    </tr>\n    <tr>\n      <th>4</th>\n      <td>Kothanur</td>\n      <td>2 BHK</td>\n      <td>1200.0</td>\n      <td>2.0</td>\n      <td>51.00</td>\n      <td>2</td>\n      <td>4250.000000</td>\n    </tr>\n  </tbody>\n</table>\n</div>"
     },
     "execution_count": 26,
     "metadata": {},
     "output_type": "execute_result"
    }
   ]
  },
  {
   "cell_type": "code",
   "source": [
    "len(df5.location.unique())"
   ],
   "metadata": {
    "colab": {
     "base_uri": "https://localhost:8080/"
    },
    "id": "IgRamwsTomhQ",
    "outputId": "27883d53-6849-473f-bc81-8b38ff06e8ad"
   },
   "execution_count": 27,
   "outputs": [
    {
     "data": {
      "text/plain": "1304"
     },
     "execution_count": 27,
     "metadata": {},
     "output_type": "execute_result"
    }
   ]
  },
  {
   "cell_type": "code",
   "source": [
    "# solving dimentionality curse  as location is a catagorical variable so we have to make them as col. \n",
    "# as we cant have all locations as col. so we changed some locations to other\n",
    "df5.location = df5.location.apply(lambda x: x.strip())\n",
    "location_stats = df5.groupby('location')['location'].agg('count')\n",
    "location_stats"
   ],
   "metadata": {
    "colab": {
     "base_uri": "https://localhost:8080/"
    },
    "id": "aYvLxPNPoHsn",
    "outputId": "0944c2a4-5827-4175-b068-b3ab4d89d3d8"
   },
   "execution_count": 28,
   "outputs": [
    {
     "data": {
      "text/plain": "location\n1 Annasandrapalya                                  1\n1 Giri Nagar                                       1\n1 Immadihalli                                      1\n1 Ramamurthy Nagar                                 1\n12th cross srinivas nagar banshankari 3rd stage    1\n                                                  ..\nt.c palya                                          1\ntc.palya                                           4\nvinayakanagar                                      1\nwhite field,kadugodi                               1\nwhitefiled                                         1\nName: location, Length: 1293, dtype: int64"
     },
     "execution_count": 28,
     "metadata": {},
     "output_type": "execute_result"
    }
   ]
  },
  {
   "cell_type": "code",
   "source": [
    "len(location_stats[location_stats<=10])"
   ],
   "metadata": {
    "colab": {
     "base_uri": "https://localhost:8080/"
    },
    "id": "E7xsdi-Ioq-_",
    "outputId": "6a75089f-8863-4bae-e9fb-f120836f86b1"
   },
   "execution_count": 29,
   "outputs": [
    {
     "data": {
      "text/plain": "1052"
     },
     "execution_count": 29,
     "metadata": {},
     "output_type": "execute_result"
    }
   ]
  },
  {
   "cell_type": "code",
   "source": [
    "location_stats_less_than_10 = location_stats[location_stats<=10]\n"
   ],
   "metadata": {
    "id": "_O1eYFLopj8O"
   },
   "execution_count": 30,
   "outputs": []
  },
  {
   "cell_type": "code",
   "source": [
    "df5.location = df5.location.apply(lambda x: 'other' if x in location_stats_less_than_10 else x)\n",
    "len(df5.location.unique())"
   ],
   "metadata": {
    "colab": {
     "base_uri": "https://localhost:8080/"
    },
    "id": "GtBagRGppycX",
    "outputId": "bd94dd87-f680-49e9-ab3a-040da0c878a6"
   },
   "execution_count": 31,
   "outputs": [
    {
     "data": {
      "text/plain": "242"
     },
     "execution_count": 31,
     "metadata": {},
     "output_type": "execute_result"
    }
   ]
  },
  {
   "cell_type": "code",
   "source": [
    "df5.head(10)"
   ],
   "metadata": {
    "colab": {
     "base_uri": "https://localhost:8080/",
     "height": 363
    },
    "id": "jL_Fh7pqquMv",
    "outputId": "28c7c4de-3499-401c-9887-1931a6fda8f8"
   },
   "execution_count": 32,
   "outputs": [
    {
     "data": {
      "text/plain": "                   location       size  total_sqft  bath   price  bhk  \\\n0  Electronic City Phase II      2 BHK      1056.0   2.0   39.07    2   \n1          Chikka Tirupathi  4 Bedroom      2600.0   5.0  120.00    4   \n2               Uttarahalli      3 BHK      1440.0   2.0   62.00    3   \n3        Lingadheeranahalli      3 BHK      1521.0   3.0   95.00    3   \n4                  Kothanur      2 BHK      1200.0   2.0   51.00    2   \n5                Whitefield      2 BHK      1170.0   2.0   38.00    2   \n6          Old Airport Road      4 BHK      2732.0   4.0  204.00    4   \n7              Rajaji Nagar      4 BHK      3300.0   4.0  600.00    4   \n8              Marathahalli      3 BHK      1310.0   3.0   63.25    3   \n9                     other  6 Bedroom      1020.0   6.0  370.00    6   \n\n   price_per_sqft  \n0     3699.810606  \n1     4615.384615  \n2     4305.555556  \n3     6245.890861  \n4     4250.000000  \n5     3247.863248  \n6     7467.057101  \n7    18181.818182  \n8     4828.244275  \n9    36274.509804  ",
      "text/html": "<div>\n<style scoped>\n    .dataframe tbody tr th:only-of-type {\n        vertical-align: middle;\n    }\n\n    .dataframe tbody tr th {\n        vertical-align: top;\n    }\n\n    .dataframe thead th {\n        text-align: right;\n    }\n</style>\n<table border=\"1\" class=\"dataframe\">\n  <thead>\n    <tr style=\"text-align: right;\">\n      <th></th>\n      <th>location</th>\n      <th>size</th>\n      <th>total_sqft</th>\n      <th>bath</th>\n      <th>price</th>\n      <th>bhk</th>\n      <th>price_per_sqft</th>\n    </tr>\n  </thead>\n  <tbody>\n    <tr>\n      <th>0</th>\n      <td>Electronic City Phase II</td>\n      <td>2 BHK</td>\n      <td>1056.0</td>\n      <td>2.0</td>\n      <td>39.07</td>\n      <td>2</td>\n      <td>3699.810606</td>\n    </tr>\n    <tr>\n      <th>1</th>\n      <td>Chikka Tirupathi</td>\n      <td>4 Bedroom</td>\n      <td>2600.0</td>\n      <td>5.0</td>\n      <td>120.00</td>\n      <td>4</td>\n      <td>4615.384615</td>\n    </tr>\n    <tr>\n      <th>2</th>\n      <td>Uttarahalli</td>\n      <td>3 BHK</td>\n      <td>1440.0</td>\n      <td>2.0</td>\n      <td>62.00</td>\n      <td>3</td>\n      <td>4305.555556</td>\n    </tr>\n    <tr>\n      <th>3</th>\n      <td>Lingadheeranahalli</td>\n      <td>3 BHK</td>\n      <td>1521.0</td>\n      <td>3.0</td>\n      <td>95.00</td>\n      <td>3</td>\n      <td>6245.890861</td>\n    </tr>\n    <tr>\n      <th>4</th>\n      <td>Kothanur</td>\n      <td>2 BHK</td>\n      <td>1200.0</td>\n      <td>2.0</td>\n      <td>51.00</td>\n      <td>2</td>\n      <td>4250.000000</td>\n    </tr>\n    <tr>\n      <th>5</th>\n      <td>Whitefield</td>\n      <td>2 BHK</td>\n      <td>1170.0</td>\n      <td>2.0</td>\n      <td>38.00</td>\n      <td>2</td>\n      <td>3247.863248</td>\n    </tr>\n    <tr>\n      <th>6</th>\n      <td>Old Airport Road</td>\n      <td>4 BHK</td>\n      <td>2732.0</td>\n      <td>4.0</td>\n      <td>204.00</td>\n      <td>4</td>\n      <td>7467.057101</td>\n    </tr>\n    <tr>\n      <th>7</th>\n      <td>Rajaji Nagar</td>\n      <td>4 BHK</td>\n      <td>3300.0</td>\n      <td>4.0</td>\n      <td>600.00</td>\n      <td>4</td>\n      <td>18181.818182</td>\n    </tr>\n    <tr>\n      <th>8</th>\n      <td>Marathahalli</td>\n      <td>3 BHK</td>\n      <td>1310.0</td>\n      <td>3.0</td>\n      <td>63.25</td>\n      <td>3</td>\n      <td>4828.244275</td>\n    </tr>\n    <tr>\n      <th>9</th>\n      <td>other</td>\n      <td>6 Bedroom</td>\n      <td>1020.0</td>\n      <td>6.0</td>\n      <td>370.00</td>\n      <td>6</td>\n      <td>36274.509804</td>\n    </tr>\n  </tbody>\n</table>\n</div>"
     },
     "execution_count": 32,
     "metadata": {},
     "output_type": "execute_result"
    }
   ]
  },
  {
   "cell_type": "markdown",
   "source": [
    "Outlier Removal Using Business Logic"
   ],
   "metadata": {
    "id": "M-DcLPro7P8c"
   }
  },
  {
   "cell_type": "code",
   "source": [
    "df5[df5.total_sqft/df5.bhk<300].head()"
   ],
   "metadata": {
    "colab": {
     "base_uri": "https://localhost:8080/",
     "height": 206
    },
    "id": "R8gCiHEF7SVj",
    "outputId": "0e344a8d-5168-41a1-fc32-0adf578cc6fe"
   },
   "execution_count": 33,
   "outputs": [
    {
     "data": {
      "text/plain": "               location       size  total_sqft  bath  price  bhk  \\\n9                 other  6 Bedroom      1020.0   6.0  370.0    6   \n45           HSR Layout  8 Bedroom       600.0   9.0  200.0    8   \n58        Murugeshpalya  6 Bedroom      1407.0   4.0  150.0    6   \n68  Devarachikkanahalli  8 Bedroom      1350.0   7.0   85.0    8   \n70                other  3 Bedroom       500.0   3.0  100.0    3   \n\n    price_per_sqft  \n9     36274.509804  \n45    33333.333333  \n58    10660.980810  \n68     6296.296296  \n70    20000.000000  ",
      "text/html": "<div>\n<style scoped>\n    .dataframe tbody tr th:only-of-type {\n        vertical-align: middle;\n    }\n\n    .dataframe tbody tr th {\n        vertical-align: top;\n    }\n\n    .dataframe thead th {\n        text-align: right;\n    }\n</style>\n<table border=\"1\" class=\"dataframe\">\n  <thead>\n    <tr style=\"text-align: right;\">\n      <th></th>\n      <th>location</th>\n      <th>size</th>\n      <th>total_sqft</th>\n      <th>bath</th>\n      <th>price</th>\n      <th>bhk</th>\n      <th>price_per_sqft</th>\n    </tr>\n  </thead>\n  <tbody>\n    <tr>\n      <th>9</th>\n      <td>other</td>\n      <td>6 Bedroom</td>\n      <td>1020.0</td>\n      <td>6.0</td>\n      <td>370.0</td>\n      <td>6</td>\n      <td>36274.509804</td>\n    </tr>\n    <tr>\n      <th>45</th>\n      <td>HSR Layout</td>\n      <td>8 Bedroom</td>\n      <td>600.0</td>\n      <td>9.0</td>\n      <td>200.0</td>\n      <td>8</td>\n      <td>33333.333333</td>\n    </tr>\n    <tr>\n      <th>58</th>\n      <td>Murugeshpalya</td>\n      <td>6 Bedroom</td>\n      <td>1407.0</td>\n      <td>4.0</td>\n      <td>150.0</td>\n      <td>6</td>\n      <td>10660.980810</td>\n    </tr>\n    <tr>\n      <th>68</th>\n      <td>Devarachikkanahalli</td>\n      <td>8 Bedroom</td>\n      <td>1350.0</td>\n      <td>7.0</td>\n      <td>85.0</td>\n      <td>8</td>\n      <td>6296.296296</td>\n    </tr>\n    <tr>\n      <th>70</th>\n      <td>other</td>\n      <td>3 Bedroom</td>\n      <td>500.0</td>\n      <td>3.0</td>\n      <td>100.0</td>\n      <td>3</td>\n      <td>20000.000000</td>\n    </tr>\n  </tbody>\n</table>\n</div>"
     },
     "execution_count": 33,
     "metadata": {},
     "output_type": "execute_result"
    }
   ]
  },
  {
   "cell_type": "code",
   "source": [
    "df5.shape"
   ],
   "metadata": {
    "colab": {
     "base_uri": "https://localhost:8080/"
    },
    "id": "vgMvKJJP7VzN",
    "outputId": "9dbb9690-960a-4b43-d503-4804f69fa09a"
   },
   "execution_count": 34,
   "outputs": [
    {
     "data": {
      "text/plain": "(13246, 7)"
     },
     "execution_count": 34,
     "metadata": {},
     "output_type": "execute_result"
    }
   ]
  },
  {
   "cell_type": "code",
   "source": [
    "df6 = df5[~(df5.total_sqft/df5.bhk<300)]\n",
    "df6.shape"
   ],
   "metadata": {
    "colab": {
     "base_uri": "https://localhost:8080/"
    },
    "id": "CXd4Tht47XbB",
    "outputId": "bb422d79-95ff-4f07-bd25-b46e786810b8"
   },
   "execution_count": 35,
   "outputs": [
    {
     "data": {
      "text/plain": "(12502, 7)"
     },
     "execution_count": 35,
     "metadata": {},
     "output_type": "execute_result"
    }
   ]
  },
  {
   "cell_type": "markdown",
   "source": [
    "Outlier Removal Using Standard Deviation and Mean\n"
   ],
   "metadata": {
    "id": "kRiNiDf-7hw-"
   }
  },
  {
   "cell_type": "code",
   "source": [
    "df6.price_per_sqft.describe()"
   ],
   "metadata": {
    "colab": {
     "base_uri": "https://localhost:8080/"
    },
    "id": "gKRvMTvY7cHj",
    "outputId": "d90a0c2a-6f11-455f-f086-67e405b7f284"
   },
   "execution_count": 36,
   "outputs": [
    {
     "data": {
      "text/plain": "count     12456.000000\nmean       6308.502826\nstd        4168.127339\nmin         267.829813\n25%        4210.526316\n50%        5294.117647\n75%        6916.666667\nmax      176470.588235\nName: price_per_sqft, dtype: float64"
     },
     "execution_count": 36,
     "metadata": {},
     "output_type": "execute_result"
    }
   ]
  },
  {
   "cell_type": "code",
   "source": [
    "def remove_pps_outliers(df):\n",
    "    df_out = pd.DataFrame()\n",
    "    for key, subdf in df.groupby('location'):\n",
    "        m = np.mean(subdf.price_per_sqft)\n",
    "        st = np.std(subdf.price_per_sqft)\n",
    "        reduced_df = subdf[(subdf.price_per_sqft>(m-st)) & (subdf.price_per_sqft<=(m+st))]\n",
    "        df_out = pd.concat([df_out,reduced_df],ignore_index=True)\n",
    "    return df_out\n",
    "df7 = remove_pps_outliers(df6)\n",
    "df7.shape"
   ],
   "metadata": {
    "colab": {
     "base_uri": "https://localhost:8080/"
    },
    "id": "FEHhYc2W7kIj",
    "outputId": "3daa9d49-0111-47b1-b13a-18cb87f1ecea"
   },
   "execution_count": 37,
   "outputs": [
    {
     "data": {
      "text/plain": "(10241, 7)"
     },
     "execution_count": 37,
     "metadata": {},
     "output_type": "execute_result"
    }
   ]
  },
  {
   "cell_type": "code",
   "source": [
    "def plot_scatter_chart(df,location):\n",
    "    bhk2 = df[(df.location==location) & (df.bhk==2)]\n",
    "    bhk3 = df[(df.location==location) & (df.bhk==3)]\n",
    "    matplotlib.rcParams['figure.figsize'] = (15,10)\n",
    "    plt.scatter(bhk2.total_sqft,bhk2.price,color='blue',label='2 BHK', s=50)\n",
    "    plt.scatter(bhk3.total_sqft,bhk3.price,marker='+', color='green',label='3 BHK', s=50)\n",
    "    plt.xlabel(\"Total Square Feet Area\")\n",
    "    plt.ylabel(\"Price (Lakh Indian Rupees)\")\n",
    "    plt.title(location)\n",
    "    plt.legend()\n",
    "    \n",
    "plot_scatter_chart(df7,\"Rajaji Nagar\")"
   ],
   "metadata": {
    "colab": {
     "base_uri": "https://localhost:8080/",
     "height": 621
    },
    "id": "Bvko4Yj38OyB",
    "outputId": "3275455a-1fb3-420a-e36d-4121d58b664b"
   },
   "execution_count": 38,
   "outputs": [
    {
     "data": {
      "text/plain": "<Figure size 1500x1000 with 1 Axes>",
      "image/png": "[encoded data removed]"
     },
     "metadata": {},
     "output_type": "display_data"
    }
   ]
  },
  {
   "cell_type": "code",
   "source": [
    "plot_scatter_chart(df7,\"Hebbal\")"
   ],
   "metadata": {
    "colab": {
     "base_uri": "https://localhost:8080/",
     "height": 621
    },
    "id": "-_fDHHqR8sBi",
    "outputId": "5ef9c88e-0f60-49ad-c60e-2e1a6a0f698a"
   },
   "execution_count": 39,
   "outputs": [
    {
     "data": {
      "text/plain": "<Figure size 1500x1000 with 1 Axes>",
      "image/png": "[encoded data removed]"
     },
     "metadata": {},
     "output_type": "display_data"
    }
   ]
  },
  {
   "cell_type": "markdown",
   "source": [
    "![Screenshot 2022-11-17 103033.png](data:image/png;base64,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)"
   ],
   "metadata": {
    "id": "ImPghWUV9Fu5"
   }
  },
  {
   "cell_type": "code",
   "source": [
    "def remove_bhk_outliers(df):\n",
    "    exclude_indices = np.array([])\n",
    "    for location, location_df in df.groupby('location'):\n",
    "        bhk_stats = {}\n",
    "        for bhk, bhk_df in location_df.groupby('bhk'):\n",
    "            bhk_stats[bhk] = {\n",
    "                'mean': np.mean(bhk_df.price_per_sqft),\n",
    "                'std': np.std(bhk_df.price_per_sqft),\n",
    "                'count': bhk_df.shape[0]\n",
    "            }\n",
    "        for bhk, bhk_df in location_df.groupby('bhk'):\n",
    "            stats = bhk_stats.get(bhk-1)\n",
    "            if stats and stats['count']>5:\n",
    "                exclude_indices = np.append(exclude_indices, bhk_df[bhk_df.price_per_sqft<(stats['mean'])].index.values)\n",
    "    return df.drop(exclude_indices,axis='index')\n",
    "df8 = remove_bhk_outliers(df7)\n",
    "df8.shape"
   ],
   "metadata": {
    "colab": {
     "base_uri": "https://localhost:8080/"
    },
    "id": "bxvf6Nqn9nA2",
    "outputId": "fbf58083-a6f4-418d-efe6-d98bd6931baa"
   },
   "execution_count": 40,
   "outputs": [
    {
     "data": {
      "text/plain": "(7329, 7)"
     },
     "execution_count": 40,
     "metadata": {},
     "output_type": "execute_result"
    }
   ]
  },
  {
   "cell_type": "code",
   "source": [
    "plot_scatter_chart(df8,'Hebbal')"
   ],
   "metadata": {
    "colab": {
     "base_uri": "https://localhost:8080/",
     "height": 621
    },
    "id": "-h8g7OKZ-UrD",
    "outputId": "6182ab78-8c5b-461c-eabf-71bcdf853fb8"
   },
   "execution_count": 41,
   "outputs": [
    {
     "data": {
      "text/plain": "<Figure size 1500x1000 with 1 Axes>",
      "image/png": "[encoded data removed]"
     },
     "metadata": {},
     "output_type": "display_data"
    }
   ]
  },
  {
   "cell_type": "code",
   "source": [
    "import matplotlib\n",
    "matplotlib.rcParams[\"figure.figsize\"] = (20,10)\n",
    "plt.hist(df8.price_per_sqft,rwidth=0.8)\n",
    "plt.xlabel(\"Price Per Square Feet\")\n",
    "plt.ylabel(\"Count\")"
   ],
   "metadata": {
    "colab": {
     "base_uri": "https://localhost:8080/",
     "height": 623
    },
    "id": "m_j07b5Y-5es",
    "outputId": "a7575b8e-1d78-45fb-8575-11918682befa"
   },
   "execution_count": 42,
   "outputs": [
    {
     "data": {
      "text/plain": "Text(0, 0.5, 'Count')"
     },
     "execution_count": 42,
     "metadata": {},
     "output_type": "execute_result"
    },
    {
     "data": {
      "text/plain": "<Figure size 2000x1000 with 1 Axes>",
      "image/png": "[encoded data removed]"
     },
     "metadata": {},
     "output_type": "display_data"
    }
   ]
  },
  {
   "cell_type": "code",
   "source": [
    "df8.bath.unique()"
   ],
   "metadata": {
    "colab": {
     "base_uri": "https://localhost:8080/"
    },
    "id": "mSxXdpS8-8DG",
    "outputId": "a8f551f5-e4ba-4db4-e9b3-100beafa5b11"
   },
   "execution_count": 43,
   "outputs": [
    {
     "data": {
      "text/plain": "array([ 4.,  3.,  2.,  5.,  8.,  1.,  6.,  7.,  9., 12., 16., 13.])"
     },
     "execution_count": 43,
     "metadata": {},
     "output_type": "execute_result"
    }
   ]
  },
  {
   "cell_type": "code",
   "source": [
    "plt.hist(df8.bath,rwidth=0.8)\n",
    "plt.xlabel(\"Number of bathrooms\")\n",
    "plt.ylabel(\"Count\")"
   ],
   "metadata": {
    "colab": {
     "base_uri": "https://localhost:8080/",
     "height": 626
    },
    "id": "HStbFWkk--dp",
    "outputId": "c0202763-8707-4ba2-d117-d9ae7a68d077"
   },
   "execution_count": 44,
   "outputs": [
    {
     "data": {
      "text/plain": "Text(0, 0.5, 'Count')"
     },
     "execution_count": 44,
     "metadata": {},
     "output_type": "execute_result"
    },
    {
     "data": {
      "text/plain": "<Figure size 2000x1000 with 1 Axes>",
      "image/png": "[encoded data removed]"
     },
     "metadata": {},
     "output_type": "display_data"
    }
   ]
  },
  {
   "cell_type": "code",
   "source": [
    "df8[df8.bath>10]"
   ],
   "metadata": {
    "colab": {
     "base_uri": "https://localhost:8080/",
     "height": 206
    },
    "id": "fwc-YEZD_Bco",
    "outputId": "b951fcb7-eebd-4bee-f839-e800a3eaa65a"
   },
   "execution_count": 45,
   "outputs": [
    {
     "data": {
      "text/plain": "            location    size  total_sqft  bath  price  bhk  price_per_sqft\n5277  Neeladri Nagar  10 BHK      4000.0  12.0  160.0   10     4000.000000\n8486           other  10 BHK     12000.0  12.0  525.0   10     4375.000000\n8575           other  16 BHK     10000.0  16.0  550.0   16     5500.000000\n9308           other  11 BHK      6000.0  12.0  150.0   11     2500.000000\n9639           other  13 BHK      5425.0  13.0  275.0   13     5069.124424",
      "text/html": "<div>\n<style scoped>\n    .dataframe tbody tr th:only-of-type {\n        vertical-align: middle;\n    }\n\n    .dataframe tbody tr th {\n        vertical-align: top;\n    }\n\n    .dataframe thead th {\n        text-align: right;\n    }\n</style>\n<table border=\"1\" class=\"dataframe\">\n  <thead>\n    <tr style=\"text-align: right;\">\n      <th></th>\n      <th>location</th>\n      <th>size</th>\n      <th>total_sqft</th>\n      <th>bath</th>\n      <th>price</th>\n      <th>bhk</th>\n      <th>price_per_sqft</th>\n    </tr>\n  </thead>\n  <tbody>\n    <tr>\n      <th>5277</th>\n      <td>Neeladri Nagar</td>\n      <td>10 BHK</td>\n      <td>4000.0</td>\n      <td>12.0</td>\n      <td>160.0</td>\n      <td>10</td>\n      <td>4000.000000</td>\n    </tr>\n    <tr>\n      <th>8486</th>\n      <td>other</td>\n      <td>10 BHK</td>\n      <td>12000.0</td>\n      <td>12.0</td>\n      <td>525.0</td>\n      <td>10</td>\n      <td>4375.000000</td>\n    </tr>\n    <tr>\n      <th>8575</th>\n      <td>other</td>\n      <td>16 BHK</td>\n      <td>10000.0</td>\n      <td>16.0</td>\n      <td>550.0</td>\n      <td>16</td>\n      <td>5500.000000</td>\n    </tr>\n    <tr>\n      <th>9308</th>\n      <td>other</td>\n      <td>11 BHK</td>\n      <td>6000.0</td>\n      <td>12.0</td>\n      <td>150.0</td>\n      <td>11</td>\n      <td>2500.000000</td>\n    </tr>\n    <tr>\n      <th>9639</th>\n      <td>other</td>\n      <td>13 BHK</td>\n      <td>5425.0</td>\n      <td>13.0</td>\n      <td>275.0</td>\n      <td>13</td>\n      <td>5069.124424</td>\n    </tr>\n  </tbody>\n</table>\n</div>"
     },
     "execution_count": 45,
     "metadata": {},
     "output_type": "execute_result"
    }
   ]
  },
  {
   "cell_type": "code",
   "source": [
    "df8[df8.bath>df8.bhk+2]"
   ],
   "metadata": {
    "colab": {
     "base_uri": "https://localhost:8080/",
     "height": 175
    },
    "id": "lKKesP4-_Ert",
    "outputId": "02c542d1-e240-421c-a43f-9d042b5d1fb5"
   },
   "execution_count": 46,
   "outputs": [
    {
     "data": {
      "text/plain": "           location       size  total_sqft  bath   price  bhk  price_per_sqft\n1626  Chikkabanavar  4 Bedroom      2460.0   7.0    80.0    4     3252.032520\n5238     Nagasandra  4 Bedroom      7000.0   8.0   450.0    4     6428.571429\n6711    Thanisandra      3 BHK      1806.0   6.0   116.0    3     6423.034330\n8411          other      6 BHK     11338.0   9.0  1000.0    6     8819.897689",
      "text/html": "<div>\n<style scoped>\n    .dataframe tbody tr th:only-of-type {\n        vertical-align: middle;\n    }\n\n    .dataframe tbody tr th {\n        vertical-align: top;\n    }\n\n    .dataframe thead th {\n        text-align: right;\n    }\n</style>\n<table border=\"1\" class=\"dataframe\">\n  <thead>\n    <tr style=\"text-align: right;\">\n      <th></th>\n      <th>location</th>\n      <th>size</th>\n      <th>total_sqft</th>\n      <th>bath</th>\n      <th>price</th>\n      <th>bhk</th>\n      <th>price_per_sqft</th>\n    </tr>\n  </thead>\n  <tbody>\n    <tr>\n      <th>1626</th>\n      <td>Chikkabanavar</td>\n      <td>4 Bedroom</td>\n      <td>2460.0</td>\n      <td>7.0</td>\n      <td>80.0</td>\n      <td>4</td>\n      <td>3252.032520</td>\n    </tr>\n    <tr>\n      <th>5238</th>\n      <td>Nagasandra</td>\n      <td>4 Bedroom</td>\n      <td>7000.0</td>\n      <td>8.0</td>\n      <td>450.0</td>\n      <td>4</td>\n      <td>6428.571429</td>\n    </tr>\n    <tr>\n      <th>6711</th>\n      <td>Thanisandra</td>\n      <td>3 BHK</td>\n      <td>1806.0</td>\n      <td>6.0</td>\n      <td>116.0</td>\n      <td>3</td>\n      <td>6423.034330</td>\n    </tr>\n    <tr>\n      <th>8411</th>\n      <td>other</td>\n      <td>6 BHK</td>\n      <td>11338.0</td>\n      <td>9.0</td>\n      <td>1000.0</td>\n      <td>6</td>\n      <td>8819.897689</td>\n    </tr>\n  </tbody>\n</table>\n</div>"
     },
     "execution_count": 46,
     "metadata": {},
     "output_type": "execute_result"
    }
   ]
  },
  {
   "cell_type": "code",
   "source": [
    "df9 = df8[df8.bath<df8.bhk+2]\n",
    "df9.shape"
   ],
   "metadata": {
    "colab": {
     "base_uri": "https://localhost:8080/"
    },
    "id": "O692wdhA_Hgs",
    "outputId": "c3431f19-a95f-4d36-f8e5-7dd895407a5e"
   },
   "execution_count": 47,
   "outputs": [
    {
     "data": {
      "text/plain": "(7251, 7)"
     },
     "execution_count": 47,
     "metadata": {},
     "output_type": "execute_result"
    }
   ]
  },
  {
   "cell_type": "code",
   "source": [
    "df10 = df9.drop(['size','price_per_sqft'],axis='columns')\n",
    "df10.head(3)"
   ],
   "metadata": {
    "colab": {
     "base_uri": "https://localhost:8080/",
     "height": 143
    },
    "id": "wSudtLO5_K-A",
    "outputId": "81b9d847-86d1-499b-be03-a9b6b44d5bf7"
   },
   "execution_count": 48,
   "outputs": [
    {
     "data": {
      "text/plain": "              location  total_sqft  bath  price  bhk\n0  1st Block Jayanagar      2850.0   4.0  428.0    4\n1  1st Block Jayanagar      1630.0   3.0  194.0    3\n2  1st Block Jayanagar      1875.0   2.0  235.0    3",
      "text/html": "<div>\n<style scoped>\n    .dataframe tbody tr th:only-of-type {\n        vertical-align: middle;\n    }\n\n    .dataframe tbody tr th {\n        vertical-align: top;\n    }\n\n    .dataframe thead th {\n        text-align: right;\n    }\n</style>\n<table border=\"1\" class=\"dataframe\">\n  <thead>\n    <tr style=\"text-align: right;\">\n      <th></th>\n      <th>location</th>\n      <th>total_sqft</th>\n      <th>bath</th>\n      <th>price</th>\n      <th>bhk</th>\n    </tr>\n  </thead>\n  <tbody>\n    <tr>\n      <th>0</th>\n      <td>1st Block Jayanagar</td>\n      <td>2850.0</td>\n      <td>4.0</td>\n      <td>428.0</td>\n      <td>4</td>\n    </tr>\n    <tr>\n      <th>1</th>\n      <td>1st Block Jayanagar</td>\n      <td>1630.0</td>\n      <td>3.0</td>\n      <td>194.0</td>\n      <td>3</td>\n    </tr>\n    <tr>\n      <th>2</th>\n      <td>1st Block Jayanagar</td>\n      <td>1875.0</td>\n      <td>2.0</td>\n      <td>235.0</td>\n      <td>3</td>\n    </tr>\n  </tbody>\n</table>\n</div>"
     },
     "execution_count": 48,
     "metadata": {},
     "output_type": "execute_result"
    }
   ]
  },
  {
   "cell_type": "markdown",
   "source": [
    "Use One Hot Encoding For Location"
   ],
   "metadata": {
    "id": "CX3K5jDf_SLx"
   }
  },
  {
   "cell_type": "code",
   "source": [
    "dummies = pd.get_dummies(df10.location)\n",
    "dummies.head(10)"
   ],
   "metadata": {
    "colab": {
     "base_uri": "https://localhost:8080/",
     "height": 508
    },
    "id": "0u48AoQ9_S_1",
    "outputId": "3c8fb1c7-e9f8-4841-facb-6a734c5b3685"
   },
   "execution_count": 49,
   "outputs": [
    {
     "data": {
      "text/plain": "    1st Block Jayanagar  1st Phase JP Nagar  2nd Phase Judicial Layout  \\\n0                     1                   0                          0   \n1                     1                   0                          0   \n2                     1                   0                          0   \n3                     1                   0                          0   \n4                     1                   0                          0   \n5                     1                   0                          0   \n6                     1                   0                          0   \n8                     0                   1                          0   \n9                     0                   1                          0   \n10                    0                   1                          0   \n\n    2nd Stage Nagarbhavi  5th Block Hbr Layout  5th Phase JP Nagar  \\\n0                      0                     0                   0   \n1                      0                     0                   0   \n2                      0                     0                   0   \n3                      0                     0                   0   \n4                      0                     0                   0   \n5                      0                     0                   0   \n6                      0                     0                   0   \n8                      0                     0                   0   \n9                      0                     0                   0   \n10                     0                     0                   0   \n\n    6th Phase JP Nagar  7th Phase JP Nagar  8th Phase JP Nagar  \\\n0                    0                   0                   0   \n1                    0                   0                   0   \n2                    0                   0                   0   \n3                    0                   0                   0   \n4                    0                   0                   0   \n5                    0                   0                   0   \n6                    0                   0                   0   \n8                    0                   0                   0   \n9                    0                   0                   0   \n10                   0                   0                   0   \n\n    9th Phase JP Nagar  ...  Vishveshwarya Layout  Vishwapriya Layout  \\\n0                    0  ...                     0                   0   \n1                    0  ...                     0                   0   \n2                    0  ...                     0                   0   \n3                    0  ...                     0                   0   \n4                    0  ...                     0                   0   \n5                    0  ...                     0                   0   \n6                    0  ...                     0                   0   \n8                    0  ...                     0                   0   \n9                    0  ...                     0                   0   \n10                   0  ...                     0                   0   \n\n    Vittasandra  Whitefield  Yelachenahalli  Yelahanka  Yelahanka New Town  \\\n0             0           0               0          0                   0   \n1             0           0               0          0                   0   \n2             0           0               0          0                   0   \n3             0           0               0          0                   0   \n4             0           0               0          0                   0   \n5             0           0               0          0                   0   \n6             0           0               0          0                   0   \n8             0           0               0          0                   0   \n9             0           0               0          0                   0   \n10            0           0               0          0                   0   \n\n    Yelenahalli  Yeshwanthpur  other  \n0             0             0      0  \n1             0             0      0  \n2             0             0      0  \n3             0             0      0  \n4             0             0      0  \n5             0             0      0  \n6             0             0      0  \n8             0             0      0  \n9             0             0      0  \n10            0             0      0  \n\n[10 rows x 242 columns]",
      "text/html": "<div>\n<style scoped>\n    .dataframe tbody tr th:only-of-type {\n        vertical-align: middle;\n    }\n\n    .dataframe tbody tr th {\n        vertical-align: top;\n    }\n\n    .dataframe thead th {\n        text-align: right;\n    }\n</style>\n<table border=\"1\" class=\"dataframe\">\n  <thead>\n    <tr style=\"text-align: right;\">\n      <th></th>\n      <th>1st Block Jayanagar</th>\n      <th>1st Phase JP Nagar</th>\n      <th>2nd Phase Judicial Layout</th>\n      <th>2nd Stage Nagarbhavi</th>\n      <th>5th Block Hbr Layout</th>\n      <th>5th Phase JP Nagar</th>\n      <th>6th Phase JP Nagar</th>\n      <th>7th Phase JP Nagar</th>\n      <th>8th Phase JP Nagar</th>\n      <th>9th Phase JP Nagar</th>\n      <th>...</th>\n      <th>Vishveshwarya Layout</th>\n      <th>Vishwapriya Layout</th>\n      <th>Vittasandra</th>\n      <th>Whitefield</th>\n      <th>Yelachenahalli</th>\n      <th>Yelahanka</th>\n      <th>Yelahanka New Town</th>\n      <th>Yelenahalli</th>\n      <th>Yeshwanthpur</th>\n      <th>other</th>\n    </tr>\n  </thead>\n  <tbody>\n    <tr>\n      <th>0</th>\n      <td>1</td>\n      <td>0</td>\n      <td>0</td>\n      <td>0</td>\n      <td>0</td>\n      <td>0</td>\n      <td>0</td>\n      <td>0</td>\n      <td>0</td>\n      <td>0</td>\n      <td>...</td>\n      <td>0</td>\n      <td>0</td>\n      <td>0</td>\n      <td>0</td>\n      <td>0</td>\n      <td>0</td>\n      <td>0</td>\n      <td>0</td>\n      <td>0</td>\n      <td>0</td>\n    </tr>\n    <tr>\n      <th>1</th>\n      <td>1</td>\n      <td>0</td>\n      <td>0</td>\n      <td>0</td>\n      <td>0</td>\n      <td>0</td>\n      <td>0</td>\n      <td>0</td>\n      <td>0</td>\n      <td>0</td>\n      <td>...</td>\n      <td>0</td>\n      <td>0</td>\n      <td>0</td>\n      <td>0</td>\n      <td>0</td>\n      <td>0</td>\n      <td>0</td>\n      <td>0</td>\n      <td>0</td>\n      <td>0</td>\n    </tr>\n    <tr>\n      <th>2</th>\n      <td>1</td>\n      <td>0</td>\n      <td>0</td>\n      <td>0</td>\n      <td>0</td>\n      <td>0</td>\n      <td>0</td>\n      <td>0</td>\n      <td>0</td>\n      <td>0</td>\n      <td>...</td>\n      <td>0</td>\n      <td>0</td>\n      <td>0</td>\n      <td>0</td>\n      <td>0</td>\n      <td>0</td>\n      <td>0</td>\n      <td>0</td>\n      <td>0</td>\n      <td>0</td>\n    </tr>\n    <tr>\n      <th>3</th>\n      <td>1</td>\n      <td>0</td>\n      <td>0</td>\n      <td>0</td>\n      <td>0</td>\n      <td>0</td>\n      <td>0</td>\n      <td>0</td>\n      <td>0</td>\n      <td>0</td>\n      <td>...</td>\n      <td>0</td>\n      <td>0</td>\n      <td>0</td>\n      <td>0</td>\n      <td>0</td>\n      <td>0</td>\n      <td>0</td>\n      <td>0</td>\n      <td>0</td>\n      <td>0</td>\n    </tr>\n    <tr>\n      <th>4</th>\n      <td>1</td>\n      <td>0</td>\n      <td>0</td>\n      <td>0</td>\n      <td>0</td>\n      <td>0</td>\n      <td>0</td>\n      <td>0</td>\n      <td>0</td>\n      <td>0</td>\n      <td>...</td>\n      <td>0</td>\n      <td>0</td>\n      <td>0</td>\n      <td>0</td>\n      <td>0</td>\n      <td>0</td>\n      <td>0</td>\n      <td>0</td>\n      <td>0</td>\n      <td>0</td>\n    </tr>\n    <tr>\n      <th>5</th>\n      <td>1</td>\n      <td>0</td>\n      <td>0</td>\n      <td>0</td>\n      <td>0</td>\n      <td>0</td>\n      <td>0</td>\n      <td>0</td>\n      <td>0</td>\n      <td>0</td>\n      <td>...</td>\n      <td>0</td>\n      <td>0</td>\n      <td>0</td>\n      <td>0</td>\n      <td>0</td>\n      <td>0</td>\n      <td>0</td>\n      <td>0</td>\n      <td>0</td>\n      <td>0</td>\n    </tr>\n    <tr>\n      <th>6</th>\n      <td>1</td>\n      <td>0</td>\n      <td>0</td>\n      <td>0</td>\n      <td>0</td>\n      <td>0</td>\n      <td>0</td>\n      <td>0</td>\n      <td>0</td>\n      <td>0</td>\n      <td>...</td>\n      <td>0</td>\n      <td>0</td>\n      <td>0</td>\n      <td>0</td>\n      <td>0</td>\n      <td>0</td>\n      <td>0</td>\n      <td>0</td>\n      <td>0</td>\n      <td>0</td>\n    </tr>\n    <tr>\n      <th>8</th>\n      <td>0</td>\n      <td>1</td>\n      <td>0</td>\n      <td>0</td>\n      <td>0</td>\n      <td>0</td>\n      <td>0</td>\n      <td>0</td>\n      <td>0</td>\n      <td>0</td>\n      <td>...</td>\n      <td>0</td>\n      <td>0</td>\n      <td>0</td>\n      <td>0</td>\n      <td>0</td>\n      <td>0</td>\n      <td>0</td>\n      <td>0</td>\n      <td>0</td>\n      <td>0</td>\n    </tr>\n    <tr>\n      <th>9</th>\n      <td>0</td>\n      <td>1</td>\n      <td>0</td>\n      <td>0</td>\n      <td>0</td>\n      <td>0</td>\n      <td>0</td>\n      <td>0</td>\n      <td>0</td>\n      <td>0</td>\n      <td>...</td>\n      <td>0</td>\n      <td>0</td>\n      <td>0</td>\n      <td>0</td>\n      <td>0</td>\n      <td>0</td>\n      <td>0</td>\n      <td>0</td>\n      <td>0</td>\n      <td>0</td>\n    </tr>\n    <tr>\n      <th>10</th>\n      <td>0</td>\n      <td>1</td>\n      <td>0</td>\n      <td>0</td>\n      <td>0</td>\n      <td>0</td>\n      <td>0</td>\n      <td>0</td>\n      <td>0</td>\n      <td>0</td>\n      <td>...</td>\n      <td>0</td>\n      <td>0</td>\n      <td>0</td>\n      <td>0</td>\n      <td>0</td>\n      <td>0</td>\n      <td>0</td>\n      <td>0</td>\n      <td>0</td>\n      <td>0</td>\n    </tr>\n  </tbody>\n</table>\n<p>10 rows × 242 columns</p>\n</div>"
     },
     "execution_count": 49,
     "metadata": {},
     "output_type": "execute_result"
    }
   ]
  },
  {
   "cell_type": "code",
   "source": [
    "df11 = pd.concat([df10,dummies.drop('other',axis='columns')],axis='columns')\n",
    "df11.head()"
   ],
   "metadata": {
    "colab": {
     "base_uri": "https://localhost:8080/",
     "height": 438
    },
    "id": "H9nhSfyQ_XAQ",
    "outputId": "35c51f90-c714-4b0d-cefd-54a847c54392"
   },
   "execution_count": 50,
   "outputs": [
    {
     "data": {
      "text/plain": "              location  total_sqft  bath  price  bhk  1st Block Jayanagar  \\\n0  1st Block Jayanagar      2850.0   4.0  428.0    4                    1   \n1  1st Block Jayanagar      1630.0   3.0  194.0    3                    1   \n2  1st Block Jayanagar      1875.0   2.0  235.0    3                    1   \n3  1st Block Jayanagar      1200.0   2.0  130.0    3                    1   \n4  1st Block Jayanagar      1235.0   2.0  148.0    2                    1   \n\n   1st Phase JP Nagar  2nd Phase Judicial Layout  2nd Stage Nagarbhavi  \\\n0                   0                          0                     0   \n1                   0                          0                     0   \n2                   0                          0                     0   \n3                   0                          0                     0   \n4                   0                          0                     0   \n\n   5th Block Hbr Layout  ...  Vijayanagar  Vishveshwarya Layout  \\\n0                     0  ...            0                     0   \n1                     0  ...            0                     0   \n2                     0  ...            0                     0   \n3                     0  ...            0                     0   \n4                     0  ...            0                     0   \n\n   Vishwapriya Layout  Vittasandra  Whitefield  Yelachenahalli  Yelahanka  \\\n0                   0            0           0               0          0   \n1                   0            0           0               0          0   \n2                   0            0           0               0          0   \n3                   0            0           0               0          0   \n4                   0            0           0               0          0   \n\n   Yelahanka New Town  Yelenahalli  Yeshwanthpur  \n0                   0            0             0  \n1                   0            0             0  \n2                   0            0             0  \n3                   0            0             0  \n4                   0            0             0  \n\n[5 rows x 246 columns]",
      "text/html": "<div>\n<style scoped>\n    .dataframe tbody tr th:only-of-type {\n        vertical-align: middle;\n    }\n\n    .dataframe tbody tr th {\n        vertical-align: top;\n    }\n\n    .dataframe thead th {\n        text-align: right;\n    }\n</style>\n<table border=\"1\" class=\"dataframe\">\n  <thead>\n    <tr style=\"text-align: right;\">\n      <th></th>\n      <th>location</th>\n      <th>total_sqft</th>\n      <th>bath</th>\n      <th>price</th>\n      <th>bhk</th>\n      <th>1st Block Jayanagar</th>\n      <th>1st Phase JP Nagar</th>\n      <th>2nd Phase Judicial Layout</th>\n      <th>2nd Stage Nagarbhavi</th>\n      <th>5th Block Hbr Layout</th>\n      <th>...</th>\n      <th>Vijayanagar</th>\n      <th>Vishveshwarya Layout</th>\n      <th>Vishwapriya Layout</th>\n      <th>Vittasandra</th>\n      <th>Whitefield</th>\n      <th>Yelachenahalli</th>\n      <th>Yelahanka</th>\n      <th>Yelahanka New Town</th>\n      <th>Yelenahalli</th>\n      <th>Yeshwanthpur</th>\n    </tr>\n  </thead>\n  <tbody>\n    <tr>\n      <th>0</th>\n      <td>1st Block Jayanagar</td>\n      <td>2850.0</td>\n      <td>4.0</td>\n      <td>428.0</td>\n      <td>4</td>\n      <td>1</td>\n      <td>0</td>\n      <td>0</td>\n      <td>0</td>\n      <td>0</td>\n      <td>...</td>\n      <td>0</td>\n      <td>0</td>\n      <td>0</td>\n      <td>0</td>\n      <td>0</td>\n      <td>0</td>\n      <td>0</td>\n      <td>0</td>\n      <td>0</td>\n      <td>0</td>\n    </tr>\n    <tr>\n      <th>1</th>\n      <td>1st Block Jayanagar</td>\n      <td>1630.0</td>\n      <td>3.0</td>\n      <td>194.0</td>\n      <td>3</td>\n      <td>1</td>\n      <td>0</td>\n      <td>0</td>\n      <td>0</td>\n      <td>0</td>\n      <td>...</td>\n      <td>0</td>\n      <td>0</td>\n      <td>0</td>\n      <td>0</td>\n      <td>0</td>\n      <td>0</td>\n      <td>0</td>\n      <td>0</td>\n      <td>0</td>\n      <td>0</td>\n    </tr>\n    <tr>\n      <th>2</th>\n      <td>1st Block Jayanagar</td>\n      <td>1875.0</td>\n      <td>2.0</td>\n      <td>235.0</td>\n      <td>3</td>\n      <td>1</td>\n      <td>0</td>\n      <td>0</td>\n      <td>0</td>\n      <td>0</td>\n      <td>...</td>\n      <td>0</td>\n      <td>0</td>\n      <td>0</td>\n      <td>0</td>\n      <td>0</td>\n      <td>0</td>\n      <td>0</td>\n      <td>0</td>\n      <td>0</td>\n      <td>0</td>\n    </tr>\n    <tr>\n      <th>3</th>\n      <td>1st Block Jayanagar</td>\n      <td>1200.0</td>\n      <td>2.0</td>\n      <td>130.0</td>\n      <td>3</td>\n      <td>1</td>\n      <td>0</td>\n      <td>0</td>\n      <td>0</td>\n      <td>0</td>\n      <td>...</td>\n      <td>0</td>\n      <td>0</td>\n      <td>0</td>\n      <td>0</td>\n      <td>0</td>\n      <td>0</td>\n      <td>0</td>\n      <td>0</td>\n      <td>0</td>\n      <td>0</td>\n    </tr>\n    <tr>\n      <th>4</th>\n      <td>1st Block Jayanagar</td>\n      <td>1235.0</td>\n      <td>2.0</td>\n      <td>148.0</td>\n      <td>2</td>\n      <td>1</td>\n      <td>0</td>\n      <td>0</td>\n      <td>0</td>\n      <td>0</td>\n      <td>...</td>\n      <td>0</td>\n      <td>0</td>\n      <td>0</td>\n      <td>0</td>\n      <td>0</td>\n      <td>0</td>\n      <td>0</td>\n      <td>0</td>\n      <td>0</td>\n      <td>0</td>\n    </tr>\n  </tbody>\n</table>\n<p>5 rows × 246 columns</p>\n</div>"
     },
     "execution_count": 50,
     "metadata": {},
     "output_type": "execute_result"
    }
   ]
  },
  {
   "cell_type": "code",
   "source": [
    "df12 = df11.drop('location',axis='columns')\n",
    "df12.head(2)"
   ],
   "metadata": {
    "colab": {
     "base_uri": "https://localhost:8080/",
     "height": 257
    },
    "id": "IVZHHNLk_e2l",
    "outputId": "e3e142aa-1652-4fd4-ca72-4ad5e66a9aaf"
   },
   "execution_count": 51,
   "outputs": [
    {
     "data": {
      "text/plain": "   total_sqft  bath  price  bhk  1st Block Jayanagar  1st Phase JP Nagar  \\\n0      2850.0   4.0  428.0    4                    1                   0   \n1      1630.0   3.0  194.0    3                    1                   0   \n\n   2nd Phase Judicial Layout  2nd Stage Nagarbhavi  5th Block Hbr Layout  \\\n0                          0                     0                     0   \n1                          0                     0                     0   \n\n   5th Phase JP Nagar  ...  Vijayanagar  Vishveshwarya Layout  \\\n0                   0  ...            0                     0   \n1                   0  ...            0                     0   \n\n   Vishwapriya Layout  Vittasandra  Whitefield  Yelachenahalli  Yelahanka  \\\n0                   0            0           0               0          0   \n1                   0            0           0               0          0   \n\n   Yelahanka New Town  Yelenahalli  Yeshwanthpur  \n0                   0            0             0  \n1                   0            0             0  \n\n[2 rows x 245 columns]",
      "text/html": "<div>\n<style scoped>\n    .dataframe tbody tr th:only-of-type {\n        vertical-align: middle;\n    }\n\n    .dataframe tbody tr th {\n        vertical-align: top;\n    }\n\n    .dataframe thead th {\n        text-align: right;\n    }\n</style>\n<table border=\"1\" class=\"dataframe\">\n  <thead>\n    <tr style=\"text-align: right;\">\n      <th></th>\n      <th>total_sqft</th>\n      <th>bath</th>\n      <th>price</th>\n      <th>bhk</th>\n      <th>1st Block Jayanagar</th>\n      <th>1st Phase JP Nagar</th>\n      <th>2nd Phase Judicial Layout</th>\n      <th>2nd Stage Nagarbhavi</th>\n      <th>5th Block Hbr Layout</th>\n      <th>5th Phase JP Nagar</th>\n      <th>...</th>\n      <th>Vijayanagar</th>\n      <th>Vishveshwarya Layout</th>\n      <th>Vishwapriya Layout</th>\n      <th>Vittasandra</th>\n      <th>Whitefield</th>\n      <th>Yelachenahalli</th>\n      <th>Yelahanka</th>\n      <th>Yelahanka New Town</th>\n      <th>Yelenahalli</th>\n      <th>Yeshwanthpur</th>\n    </tr>\n  </thead>\n  <tbody>\n    <tr>\n      <th>0</th>\n      <td>2850.0</td>\n      <td>4.0</td>\n      <td>428.0</td>\n      <td>4</td>\n      <td>1</td>\n      <td>0</td>\n      <td>0</td>\n      <td>0</td>\n      <td>0</td>\n      <td>0</td>\n      <td>...</td>\n      <td>0</td>\n      <td>0</td>\n      <td>0</td>\n      <td>0</td>\n      <td>0</td>\n      <td>0</td>\n      <td>0</td>\n      <td>0</td>\n      <td>0</td>\n      <td>0</td>\n    </tr>\n    <tr>\n      <th>1</th>\n      <td>1630.0</td>\n      <td>3.0</td>\n      <td>194.0</td>\n      <td>3</td>\n      <td>1</td>\n      <td>0</td>\n      <td>0</td>\n      <td>0</td>\n      <td>0</td>\n      <td>0</td>\n      <td>...</td>\n      <td>0</td>\n      <td>0</td>\n      <td>0</td>\n      <td>0</td>\n      <td>0</td>\n      <td>0</td>\n      <td>0</td>\n      <td>0</td>\n      <td>0</td>\n      <td>0</td>\n    </tr>\n  </tbody>\n</table>\n<p>2 rows × 245 columns</p>\n</div>"
     },
     "execution_count": 51,
     "metadata": {},
     "output_type": "execute_result"
    }
   ]
  },
  {
   "cell_type": "code",
   "source": [
    "df12.shape"
   ],
   "metadata": {
    "colab": {
     "base_uri": "https://localhost:8080/"
    },
    "id": "NM2aZ57oBK9K",
    "outputId": "262e78a4-b7cd-404e-d688-26c9e8e0538f"
   },
   "execution_count": 52,
   "outputs": [
    {
     "data": {
      "text/plain": "(7251, 245)"
     },
     "execution_count": 52,
     "metadata": {},
     "output_type": "execute_result"
    }
   ]
  },
  {
   "cell_type": "code",
   "source": [
    "X = df12.drop('price',axis = 'columns')\n",
    "X.head()"
   ],
   "metadata": {
    "colab": {
     "base_uri": "https://localhost:8080/",
     "height": 352
    },
    "id": "YgYKWzvzBOCH",
    "outputId": "025343aa-5414-4218-9a64-de2598769fd6"
   },
   "execution_count": 53,
   "outputs": [
    {
     "data": {
      "text/plain": "   total_sqft  bath  bhk  1st Block Jayanagar  1st Phase JP Nagar  \\\n0      2850.0   4.0    4                    1                   0   \n1      1630.0   3.0    3                    1                   0   \n2      1875.0   2.0    3                    1                   0   \n3      1200.0   2.0    3                    1                   0   \n4      1235.0   2.0    2                    1                   0   \n\n   2nd Phase Judicial Layout  2nd Stage Nagarbhavi  5th Block Hbr Layout  \\\n0                          0                     0                     0   \n1                          0                     0                     0   \n2                          0                     0                     0   \n3                          0                     0                     0   \n4                          0                     0                     0   \n\n   5th Phase JP Nagar  6th Phase JP Nagar  ...  Vijayanagar  \\\n0                   0                   0  ...            0   \n1                   0                   0  ...            0   \n2                   0                   0  ...            0   \n3                   0                   0  ...            0   \n4                   0                   0  ...            0   \n\n   Vishveshwarya Layout  Vishwapriya Layout  Vittasandra  Whitefield  \\\n0                     0                   0            0           0   \n1                     0                   0            0           0   \n2                     0                   0            0           0   \n3                     0                   0            0           0   \n4                     0                   0            0           0   \n\n   Yelachenahalli  Yelahanka  Yelahanka New Town  Yelenahalli  Yeshwanthpur  \n0               0          0                   0            0             0  \n1               0          0                   0            0             0  \n2               0          0                   0            0             0  \n3               0          0                   0            0             0  \n4               0          0                   0            0             0  \n\n[5 rows x 244 columns]",
      "text/html": "<div>\n<style scoped>\n    .dataframe tbody tr th:only-of-type {\n        vertical-align: middle;\n    }\n\n    .dataframe tbody tr th {\n        vertical-align: top;\n    }\n\n    .dataframe thead th {\n        text-align: right;\n    }\n</style>\n<table border=\"1\" class=\"dataframe\">\n  <thead>\n    <tr style=\"text-align: right;\">\n      <th></th>\n      <th>total_sqft</th>\n      <th>bath</th>\n      <th>bhk</th>\n      <th>1st Block Jayanagar</th>\n      <th>1st Phase JP Nagar</th>\n      <th>2nd Phase Judicial Layout</th>\n      <th>2nd Stage Nagarbhavi</th>\n      <th>5th Block Hbr Layout</th>\n      <th>5th Phase JP Nagar</th>\n      <th>6th Phase JP Nagar</th>\n      <th>...</th>\n      <th>Vijayanagar</th>\n      <th>Vishveshwarya Layout</th>\n      <th>Vishwapriya Layout</th>\n      <th>Vittasandra</th>\n      <th>Whitefield</th>\n      <th>Yelachenahalli</th>\n      <th>Yelahanka</th>\n      <th>Yelahanka New Town</th>\n      <th>Yelenahalli</th>\n      <th>Yeshwanthpur</th>\n    </tr>\n  </thead>\n  <tbody>\n    <tr>\n      <th>0</th>\n      <td>2850.0</td>\n      <td>4.0</td>\n      <td>4</td>\n      <td>1</td>\n      <td>0</td>\n      <td>0</td>\n      <td>0</td>\n      <td>0</td>\n      <td>0</td>\n      <td>0</td>\n      <td>...</td>\n      <td>0</td>\n      <td>0</td>\n      <td>0</td>\n      <td>0</td>\n      <td>0</td>\n      <td>0</td>\n      <td>0</td>\n      <td>0</td>\n      <td>0</td>\n      <td>0</td>\n    </tr>\n    <tr>\n      <th>1</th>\n      <td>1630.0</td>\n      <td>3.0</td>\n      <td>3</td>\n      <td>1</td>\n      <td>0</td>\n      <td>0</td>\n      <td>0</td>\n      <td>0</td>\n      <td>0</td>\n      <td>0</td>\n      <td>...</td>\n      <td>0</td>\n      <td>0</td>\n      <td>0</td>\n      <td>0</td>\n      <td>0</td>\n      <td>0</td>\n      <td>0</td>\n      <td>0</td>\n      <td>0</td>\n      <td>0</td>\n    </tr>\n    <tr>\n      <th>2</th>\n      <td>1875.0</td>\n      <td>2.0</td>\n      <td>3</td>\n      <td>1</td>\n      <td>0</td>\n      <td>0</td>\n      <td>0</td>\n      <td>0</td>\n      <td>0</td>\n      <td>0</td>\n      <td>...</td>\n      <td>0</td>\n      <td>0</td>\n      <td>0</td>\n      <td>0</td>\n      <td>0</td>\n      <td>0</td>\n      <td>0</td>\n      <td>0</td>\n      <td>0</td>\n      <td>0</td>\n    </tr>\n    <tr>\n      <th>3</th>\n      <td>1200.0</td>\n      <td>2.0</td>\n      <td>3</td>\n      <td>1</td>\n      <td>0</td>\n      <td>0</td>\n      <td>0</td>\n      <td>0</td>\n      <td>0</td>\n      <td>0</td>\n      <td>...</td>\n      <td>0</td>\n      <td>0</td>\n      <td>0</td>\n      <td>0</td>\n      <td>0</td>\n      <td>0</td>\n      <td>0</td>\n      <td>0</td>\n      <td>0</td>\n      <td>0</td>\n    </tr>\n    <tr>\n      <th>4</th>\n      <td>1235.0</td>\n      <td>2.0</td>\n      <td>2</td>\n      <td>1</td>\n      <td>0</td>\n      <td>0</td>\n      <td>0</td>\n      <td>0</td>\n      <td>0</td>\n      <td>0</td>\n      <td>...</td>\n      <td>0</td>\n      <td>0</td>\n      <td>0</td>\n      <td>0</td>\n      <td>0</td>\n      <td>0</td>\n      <td>0</td>\n      <td>0</td>\n      <td>0</td>\n      <td>0</td>\n    </tr>\n  </tbody>\n</table>\n<p>5 rows × 244 columns</p>\n</div>"
     },
     "execution_count": 53,
     "metadata": {},
     "output_type": "execute_result"
    }
   ]
  },
  {
   "cell_type": "code",
   "source": [
    "y = df12.price\n",
    "y.head()"
   ],
   "metadata": {
    "colab": {
     "base_uri": "https://localhost:8080/"
    },
    "id": "tCCuhGegBaWv",
    "outputId": "583b5468-5e14-4717-b7b4-6c9d32c9a747"
   },
   "execution_count": 54,
   "outputs": [
    {
     "data": {
      "text/plain": "0    428.0\n1    194.0\n2    235.0\n3    130.0\n4    148.0\nName: price, dtype: float64"
     },
     "execution_count": 54,
     "metadata": {},
     "output_type": "execute_result"
    }
   ]
  },
  {
   "cell_type": "code",
   "source": [
    "df12 = df11.drop('location',axis='columns')\n",
    "df12.head(2)"
   ],
   "metadata": {
    "colab": {
     "base_uri": "https://localhost:8080/",
     "height": 257
    },
    "id": "4w6I-t1tBqX1",
    "outputId": "06fdfed3-70aa-435d-d61a-d51ec3c98b05"
   },
   "execution_count": 55,
   "outputs": [
    {
     "data": {
      "text/plain": "   total_sqft  bath  price  bhk  1st Block Jayanagar  1st Phase JP Nagar  \\\n0      2850.0   4.0  428.0    4                    1                   0   \n1      1630.0   3.0  194.0    3                    1                   0   \n\n   2nd Phase Judicial Layout  2nd Stage Nagarbhavi  5th Block Hbr Layout  \\\n0                          0                     0                     0   \n1                          0                     0                     0   \n\n   5th Phase JP Nagar  ...  Vijayanagar  Vishveshwarya Layout  \\\n0                   0  ...            0                     0   \n1                   0  ...            0                     0   \n\n   Vishwapriya Layout  Vittasandra  Whitefield  Yelachenahalli  Yelahanka  \\\n0                   0            0           0               0          0   \n1                   0            0           0               0          0   \n\n   Yelahanka New Town  Yelenahalli  Yeshwanthpur  \n0                   0            0             0  \n1                   0            0             0  \n\n[2 rows x 245 columns]",
      "text/html": "<div>\n<style scoped>\n    .dataframe tbody tr th:only-of-type {\n        vertical-align: middle;\n    }\n\n    .dataframe tbody tr th {\n        vertical-align: top;\n    }\n\n    .dataframe thead th {\n        text-align: right;\n    }\n</style>\n<table border=\"1\" class=\"dataframe\">\n  <thead>\n    <tr style=\"text-align: right;\">\n      <th></th>\n      <th>total_sqft</th>\n      <th>bath</th>\n      <th>price</th>\n      <th>bhk</th>\n      <th>1st Block Jayanagar</th>\n      <th>1st Phase JP Nagar</th>\n      <th>2nd Phase Judicial Layout</th>\n      <th>2nd Stage Nagarbhavi</th>\n      <th>5th Block Hbr Layout</th>\n      <th>5th Phase JP Nagar</th>\n      <th>...</th>\n      <th>Vijayanagar</th>\n      <th>Vishveshwarya Layout</th>\n      <th>Vishwapriya Layout</th>\n      <th>Vittasandra</th>\n      <th>Whitefield</th>\n      <th>Yelachenahalli</th>\n      <th>Yelahanka</th>\n      <th>Yelahanka New Town</th>\n      <th>Yelenahalli</th>\n      <th>Yeshwanthpur</th>\n    </tr>\n  </thead>\n  <tbody>\n    <tr>\n      <th>0</th>\n      <td>2850.0</td>\n      <td>4.0</td>\n      <td>428.0</td>\n      <td>4</td>\n      <td>1</td>\n      <td>0</td>\n      <td>0</td>\n      <td>0</td>\n      <td>0</td>\n      <td>0</td>\n      <td>...</td>\n      <td>0</td>\n      <td>0</td>\n      <td>0</td>\n      <td>0</td>\n      <td>0</td>\n      <td>0</td>\n      <td>0</td>\n      <td>0</td>\n      <td>0</td>\n      <td>0</td>\n    </tr>\n    <tr>\n      <th>1</th>\n      <td>1630.0</td>\n      <td>3.0</td>\n      <td>194.0</td>\n      <td>3</td>\n      <td>1</td>\n      <td>0</td>\n      <td>0</td>\n      <td>0</td>\n      <td>0</td>\n      <td>0</td>\n      <td>...</td>\n      <td>0</td>\n      <td>0</td>\n      <td>0</td>\n      <td>0</td>\n      <td>0</td>\n      <td>0</td>\n      <td>0</td>\n      <td>0</td>\n      <td>0</td>\n      <td>0</td>\n    </tr>\n  </tbody>\n</table>\n<p>2 rows × 245 columns</p>\n</div>"
     },
     "execution_count": 55,
     "metadata": {},
     "output_type": "execute_result"
    }
   ]
  },
  {
   "cell_type": "code",
   "source": [
    "from sklearn.model_selection import train_test_split\n",
    "X_train, X_test, y_train, y_test = train_test_split(X.values,y,test_size=0.2,random_state=10)"
   ],
   "metadata": {
    "id": "2bNoJ0ePB6xJ"
   },
   "execution_count": 56,
   "outputs": []
  },
  {
   "cell_type": "code",
   "source": [
    "from sklearn.linear_model import LinearRegression\n",
    "lr_clf = LinearRegression()\n",
    "lr_clf.fit(X_train,y_train)\n",
    "lr_clf.score(X_test,y_test)"
   ],
   "metadata": {
    "colab": {
     "base_uri": "https://localhost:8080/"
    },
    "id": "gB_bNdMkBrna",
    "outputId": "ee9779f5-c2bd-4672-a0c9-0cc8c6b0ddb8"
   },
   "execution_count": 57,
   "outputs": [
    {
     "data": {
      "text/plain": "0.8452277697874349"
     },
     "execution_count": 57,
     "metadata": {},
     "output_type": "execute_result"
    }
   ]
  },
  {
   "cell_type": "markdown",
   "source": [
    "Use K Fold cross validation to measure accuracy of our LinearRegression model"
   ],
   "metadata": {
    "id": "4cWYdUyaBtWI"
   }
  },
  {
   "cell_type": "code",
   "source": [
    "from sklearn.model_selection import ShuffleSplit\n",
    "from sklearn.model_selection import cross_val_score\n",
    "\n",
    "cv = ShuffleSplit(n_splits=5, test_size=0.2, random_state=0)\n",
    "\n",
    "cross_val_score(LinearRegression(), X, y, cv=cv)"
   ],
   "metadata": {
    "colab": {
     "base_uri": "https://localhost:8080/"
    },
    "id": "LerJ2j5kBs1N",
    "outputId": "50160116-e3c8-40eb-fd80-c58a7841fc8c"
   },
   "execution_count": 58,
   "outputs": [
    {
     "data": {
      "text/plain": "array([0.82430186, 0.77166234, 0.85089567, 0.80837764, 0.83653286])"
     },
     "execution_count": 58,
     "metadata": {},
     "output_type": "execute_result"
    }
   ]
  },
  {
   "cell_type": "code",
   "source": [
    "# hyperparametr\n",
    "\n",
    "from sklearn.model_selection import GridSearchCV\n",
    "# from sklearn.pipeline import Pipeline\n",
    "from sklearn.linear_model import Lasso\n",
    "from sklearn.tree import DecisionTreeRegressor\n",
    "\n",
    "def find_best_model_using_gridsearchcv(X,y):\n",
    "#     pipe = Pipeline(steps=[('LG',(LinearRegression())),\n",
    "# ('lasso',Lasso(alpha=0.4))\n",
    "# ])\n",
    "\n",
    "\n",
    "    algos = {\n",
    "        \n",
    "        'lasso': {\n",
    "            'model': Lasso(),\n",
    "            'params': {\n",
    "                'alpha': [1,2],\n",
    "                'selection': ['random', 'cyclic']\n",
    "            }\n",
    "        },\n",
    "        'decision_tree': {\n",
    "            'model': DecisionTreeRegressor(),\n",
    "            'params': {\n",
    "                'criterion' : ['friedman_mse'],\n",
    "                'splitter': ['best','random']\n",
    "            }\n",
    "        }\n",
    "    }\n",
    "    scores = []\n",
    "    cv = ShuffleSplit(n_splits=5, test_size=0.2, random_state=0)\n",
    "    for algo_name, config in algos.items():\n",
    "        gs =  GridSearchCV(config['model'], config['params'], cv=cv, return_train_score=False)\n",
    "        gs.fit(X,y)\n",
    "        scores.append({\n",
    "            'model': algo_name,\n",
    "            'best_score': gs.best_score_,\n",
    "            'best_params': gs.best_params_\n",
    "        })\n",
    "\n",
    "    return pd.DataFrame(scores,columns=['model','best_score','best_params'])\n",
    "\n",
    "find_best_model_using_gridsearchcv(X,y)"
   ],
   "metadata": {
    "colab": {
     "base_uri": "https://localhost:8080/",
     "height": 150
    },
    "id": "q5sGf1D3CFv1",
    "outputId": "cafe1fe9-e0df-46a8-a873-2d096c4a1f45"
   },
   "execution_count": 59,
   "outputs": [
    {
     "data": {
      "text/plain": "           model  best_score  \\\n0          lasso    0.687454   \n1  decision_tree    0.714868   \n\n                                         best_params  \n0                {'alpha': 1, 'selection': 'random'}  \n1  {'criterion': 'friedman_mse', 'splitter': 'best'}  ",
      "text/html": "<div>\n<style scoped>\n    .dataframe tbody tr th:only-of-type {\n        vertical-align: middle;\n    }\n\n    .dataframe tbody tr th {\n        vertical-align: top;\n    }\n\n    .dataframe thead th {\n        text-align: right;\n    }\n</style>\n<table border=\"1\" class=\"dataframe\">\n  <thead>\n    <tr style=\"text-align: right;\">\n      <th></th>\n      <th>model</th>\n      <th>best_score</th>\n      <th>best_params</th>\n    </tr>\n  </thead>\n  <tbody>\n    <tr>\n      <th>0</th>\n      <td>lasso</td>\n      <td>0.687454</td>\n      <td>{'alpha': 1, 'selection': 'random'}</td>\n    </tr>\n    <tr>\n      <th>1</th>\n      <td>decision_tree</td>\n      <td>0.714868</td>\n      <td>{'criterion': 'friedman_mse', 'splitter': 'best'}</td>\n    </tr>\n  </tbody>\n</table>\n</div>"
     },
     "execution_count": 59,
     "metadata": {},
     "output_type": "execute_result"
    }
   ]
  },
  {
   "cell_type": "code",
   "source": [
    "def predict_price(location,sqft,bath,bhk):    \n",
    "    loc_index = np.where(X.columns==location)[0][0]\n",
    "    # print(loc_index)\n",
    "\n",
    "    x = [0]*len(X.columns)\n",
    "    \n",
    "    x[0] = sqft\n",
    "    x[1] = bath\n",
    "    x[2] = bhk\n",
    "    if loc_index >= 0:\n",
    "        x[loc_index] = 1\n",
    "    # print(x)\n",
    "    return lr_clf.predict([x])[0]"
   ],
   "metadata": {
    "id": "bO4VrTBGCOn2"
   },
   "execution_count": 68,
   "outputs": []
  },
  {
   "cell_type": "code",
   "source": [
    "predict_price('1st Phase JP Nagar',1000, 2, 2)"
   ],
   "metadata": {
    "colab": {
     "base_uri": "https://localhost:8080/"
    },
    "id": "O4eTwN4aCUET",
    "outputId": "0660bd7d-654e-4c64-b2ab-7b0c6ed575f7"
   },
   "execution_count": 69,
   "outputs": [
    {
     "data": {
      "text/plain": "83.49904677194546"
     },
     "execution_count": 69,
     "metadata": {},
     "output_type": "execute_result"
    }
   ]
  },
  {
   "cell_type": "code",
   "source": [
    "predict_price('1st Phase JP Nagar',1000, 3, 3)"
   ],
   "metadata": {
    "colab": {
     "base_uri": "https://localhost:8080/"
    },
    "id": "bpIiV8TZNdJG",
    "outputId": "a824a764-d571-4cd4-830c-11a08c5d2d08"
   },
   "execution_count": 70,
   "outputs": [
    {
     "data": {
      "text/plain": "86.80519395221248"
     },
     "execution_count": 70,
     "metadata": {},
     "output_type": "execute_result"
    }
   ]
  },
  {
   "cell_type": "code",
   "source": [
    "predict_price('Indira Nagar',1000, 2, 2)"
   ],
   "metadata": {
    "colab": {
     "base_uri": "https://localhost:8080/"
    },
    "id": "VTeWAHw0Ne8v",
    "outputId": "7812430f-a01a-45d0-9ef7-1dcc227ab17a"
   },
   "execution_count": 71,
   "outputs": [
    {
     "data": {
      "text/plain": "181.27815484006592"
     },
     "execution_count": 71,
     "metadata": {},
     "output_type": "execute_result"
    }
   ]
  },
  {
   "cell_type": "code",
   "source": [
    "predict_price('Indira Nagar',1000, 3, 3)"
   ],
   "metadata": {
    "colab": {
     "base_uri": "https://localhost:8080/"
    },
    "id": "LSsY7oVgNiDm",
    "outputId": "6a332c1a-0b64-4775-a317-6340bf98100e"
   },
   "execution_count": 72,
   "outputs": [
    {
     "data": {
      "text/plain": "184.58430202033293"
     },
     "execution_count": 72,
     "metadata": {},
     "output_type": "execute_result"
    }
   ]
  },
  {
   "cell_type": "markdown",
   "source": [
    "Export the tested model to a pickle file"
   ],
   "metadata": {
    "id": "XDmFHFX4CbSr"
   }
  },
  {
   "cell_type": "markdown",
   "source": [],
   "metadata": {
    "collapsed": false
   }
  },
  {
   "cell_type": "code",
   "source": [
    "import pickle\n",
    "with open('House Price Prediction Project.pickle','wb') as f:\n",
    "    pickle.dump(lr_clf,f)"
   ],
   "metadata": {
    "id": "RANiZbUVCazO"
   },
   "execution_count": 73,
   "outputs": []
  },
  {
   "cell_type": "markdown",
   "source": [
    "Export location and column information to a file that will be useful later on in our prediction application"
   ],
   "metadata": {
    "id": "FvwlxQQ8Cdl3"
   }
  },
  {
   "cell_type": "code",
   "source": [
    "import json\n",
    "columns = {\n",
    "    'data_columns' : [col.lower() for col in X.columns]\n",
    "}\n",
    "with open(\"columns.json\",\"w\") as f:\n",
    "    f.write(json.dumps(columns))"
   ],
   "metadata": {
    "id": "z7-bBPgLCfC6"
   },
   "execution_count": 74,
   "outputs": []
  }
 ]
}
